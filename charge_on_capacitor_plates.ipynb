{
 "cells": [
  {
   "cell_type": "code",
   "execution_count": 1,
   "metadata": {},
   "outputs": [],
   "source": [
    "import numericalunits as nu\n",
    "nu.reset_units()\n",
    "from numericalunits import V, mm, cm, g, ε0, NA, e, kg, g"
   ]
  },
  {
   "cell_type": "markdown",
   "metadata": {},
   "source": [
    "## Estimate of the fractional change in Compton signal from electrodes with applied voltage\n",
    "\n",
    "We assume the Compton signal scales with the number of electrons, and that the system can be approximated by a simple capacitor in a vacuum. \n",
    "\n",
    "The ratio of interest is the change in the charge on the plates divided by the charge of all the electrons in the plat material.\n",
    "\n",
    "(The calculation is trivial but it is critical to get dimensions right, hence the use of this convenient Python package)"
   ]
  },
  {
   "cell_type": "code",
   "execution_count": 2,
   "metadata": {},
   "outputs": [],
   "source": [
    "#Parameters for the calculaton\n",
    "\n",
    "volts = 3 * V\n",
    "area = 1 * (cm**2)\n",
    "thickness = 0.1 * mm\n",
    "gap = 3 * mm\n",
    "density = 7.9 * (g/cm**3) # assume Fe\n",
    "A = 56  # assume Fe\n",
    "Z = 26  # assume Fe\n",
    "mp = 1/NA * g # proton mass"
   ]
  },
  {
   "cell_type": "code",
   "execution_count": 3,
   "metadata": {},
   "outputs": [],
   "source": [
    "Δq = ε0 * area * volts / gap #change in charge on capacitor plates with applied voltage"
   ]
  },
  {
   "cell_type": "code",
   "execution_count": 4,
   "metadata": {},
   "outputs": [],
   "source": [
    "q = e * area * thickness * density * Z / A /mp  #total charge of electrons in capacitor plate material"
   ]
  },
  {
   "cell_type": "code",
   "execution_count": 5,
   "metadata": {},
   "outputs": [
    {
     "data": {
      "text/plain": [
       "2.5019292329245327e-16"
      ]
     },
     "execution_count": 5,
     "metadata": {},
     "output_type": "execute_result"
    }
   ],
   "source": [
    "#Fractional change in charge (and Compton signal) with applied voltage\n",
    "Δq / q"
   ]
  },
  {
   "cell_type": "markdown",
   "metadata": {},
   "source": [
    "## Conclusion: the change in signal is far too small to observe and can be neglected"
   ]
  },
  {
   "cell_type": "code",
   "execution_count": null,
   "metadata": {},
   "outputs": [],
   "source": []
  }
 ],
 "metadata": {
  "kernelspec": {
   "display_name": "Python 3.8 [Conda DLS]",
   "language": "python",
   "name": "conda-env-Conda_DLS-python3.8"
  },
  "language_info": {
   "codemirror_mode": {
    "name": "ipython",
    "version": 3
   },
   "file_extension": ".py",
   "mimetype": "text/x-python",
   "name": "python",
   "nbconvert_exporter": "python",
   "pygments_lexer": "ipython3",
   "version": "3.8.0"
  }
 },
 "nbformat": 4,
 "nbformat_minor": 2
}
