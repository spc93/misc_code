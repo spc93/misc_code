{
 "cells": [
  {
   "cell_type": "code",
   "execution_count": null,
   "metadata": {},
   "outputs": [],
   "source": [
    "import sys\n",
    "sys.path.append('/dls_sw/i16/software/python')\n",
    "from dlstools.pdnx import *\n",
    "from matplotlib.pyplot import *\n",
    "\n",
    "#pip install xlwt\n",
    "#filenum = 815893\n",
    "\n",
    "# use new modified NeXus file with NXmx in a second subentry\n",
    "p = '/dls/science/users/spc93/misc_nexus_data/modified/tmp/%i.nxs'\n",
    "d = '/dls/science/users/spc93/misc_nexus_data/modified/tmp/%i.dat'\n",
    "e = '/dls/science/users/spc93/misc_nexus_data/modified/tmp/%i.xls'\n",
    "\n",
    "n = pdnx(p % 815893, entry = None, data = None) # load NeXus file into pdnx (pandas/NeXus) object n"
   ]
  },
  {
   "cell_type": "code",
   "execution_count": null,
   "metadata": {},
   "outputs": [],
   "source": [
    "n # display pandas dataframe (all columns in scan)"
   ]
  },
  {
   "cell_type": "code",
   "execution_count": null,
   "metadata": {},
   "outputs": [],
   "source": [
    "print(n.nx.tree)"
   ]
  },
  {
   "cell_type": "code",
   "execution_count": null,
   "metadata": {},
   "outputs": [],
   "source": [
    "n.nx.plot() # default NeXus plot"
   ]
  },
  {
   "cell_type": "code",
   "execution_count": null,
   "metadata": {},
   "outputs": [],
   "source": [
    "n.plot('eta','sum')  # pandas plot"
   ]
  },
  {
   "cell_type": "code",
   "execution_count": null,
   "metadata": {},
   "outputs": [],
   "source": [
    "n['rat'] = n['sum']/n['ic1monitor']  # add a new column (pandas series) to dataframe\n",
    "n[['eta', 'sum', 'rat']]             # display three fields (including the new one)"
   ]
  },
  {
   "cell_type": "code",
   "execution_count": null,
   "metadata": {},
   "outputs": [],
   "source": [
    "n.to_srs(d % 815893)         # export to classic SRS .dat file\n",
    "n.to_srs_plus(d % 815894)    # export to enhanced SRS .dat file (metadata as key-value pair assignments)\n",
    "n.to_excel(e % 815894)       # export to spreadsheet"
   ]
  },
  {
   "cell_type": "code",
   "execution_count": null,
   "metadata": {},
   "outputs": [],
   "source": [
    "# open ftir file\n",
    "ftir = pdnx('/dls/science/users/spc93/misc_nexus_data/ftir1.nxs', entry = None, data = None) # load NeXus file into pdnx (pandas/NeXus) object n"
   ]
  },
  {
   "cell_type": "code",
   "execution_count": null,
   "metadata": {},
   "outputs": [],
   "source": [
    "print(ftir.nx.tree)"
   ]
  },
  {
   "cell_type": "code",
   "execution_count": null,
   "metadata": {},
   "outputs": [],
   "source": [
    "ftir.nx.plot()"
   ]
  },
  {
   "cell_type": "code",
   "execution_count": null,
   "metadata": {},
   "outputs": [],
   "source": [
    "ftir.nx.entry1.map2.plot()"
   ]
  },
  {
   "cell_type": "code",
   "execution_count": null,
   "metadata": {},
   "outputs": [],
   "source": []
  }
 ],
 "metadata": {
  "kernelspec": {
   "display_name": "Python 3.8 [Conda DLS]",
   "language": "python",
   "name": "conda-env-Conda_DLS-python3.8"
  },
  "language_info": {
   "codemirror_mode": {
    "name": "ipython",
    "version": 3
   },
   "file_extension": ".py",
   "mimetype": "text/x-python",
   "name": "python",
   "nbconvert_exporter": "python",
   "pygments_lexer": "ipython3",
   "version": "3.8.0"
  }
 },
 "nbformat": 4,
 "nbformat_minor": 2
}
