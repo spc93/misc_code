{
 "cells": [
  {
   "cell_type": "code",
   "execution_count": 1,
   "metadata": {
    "scrolled": true
   },
   "outputs": [
    {
     "name": "stdout",
     "output_type": "stream",
     "text": [
      "Defaulting to user installation because normal site-packages is not writeable\n",
      "Collecting owlready2\n",
      "  Downloading Owlready2-0.24.tar.gz (20.8 MB)\n",
      "\u001b[K     |████████████████████████████████| 20.8 MB 102 kB/s  eta 0:00:01\n",
      "\u001b[?25hBuilding wheels for collected packages: owlready2\n",
      "  Building wheel for owlready2 (setup.py) ... \u001b[?25ldone\n",
      "\u001b[?25h  Created wheel for owlready2: filename=Owlready2-0.24-py3-none-any.whl size=19645902 sha256=3e9b243d91cb7900bfd740bb889f57bc03276cf3afee0edf039c79d0d939e711\n",
      "  Stored in directory: /home/spc93/.cache/pip/wheels/f0/ac/fb/c9761803951314742c6262132d212d8892c85c4c575d0c9438\n",
      "Successfully built owlready2\n",
      "Installing collected packages: owlready2\n",
      "Successfully installed owlready2-0.24\n",
      "Note: you may need to restart the kernel to use updated packages.\n"
     ]
    }
   ],
   "source": [
    "#pip install owlready2"
   ]
  },
  {
   "cell_type": "code",
   "execution_count": 16,
   "metadata": {},
   "outputs": [
    {
     "name": "stderr",
     "output_type": "stream",
     "text": [
      "* Owlready2 * WARNING: DataProperty http://www.semanticweb.org/spc93/ontologies/2020/3/untitled-ontology-16#hasNXDLsource belongs to more than one entity types: [owl.ObjectProperty, owl.DatatypeProperty]; I'm trying to fix it...\n"
     ]
    },
    {
     "data": {
      "text/plain": [
       "get_ontology(\"http://www.semanticweb.org/spc93/ontologies/2020/3/untitled-ontology-16#\")"
      ]
     },
     "execution_count": 16,
     "metadata": {},
     "output_type": "execute_result"
    }
   ],
   "source": [
    "#from owlready2 documentation page\n",
    "#from owlready2 import *\n",
    "#onto_path.append(\"/path/to/your/local/ontology/repository\")\n",
    "#onto = get_ontology(\"http://www.lesfleursdunormal.fr/static/_downloads/pizza_onto.owl\")\n",
    "#onto.load()\n",
    "\n",
    "from owlready2 import *\n",
    "onto_path.append(\"/dls/science/users/spc93/ontology\")\n",
    "\n",
    "onto = get_ontology(\"nexus_ontology_owlready_tmp.owl\")\n",
    "onto.load()\n",
    "\n",
    "\n"
   ]
  },
  {
   "cell_type": "code",
   "execution_count": 17,
   "metadata": {},
   "outputs": [
    {
     "name": "stdout",
     "output_type": "stream",
     "text": [
      "nexus_ontology_owlready_tmp.NXobject\n",
      "nexus_ontology_owlready_tmp.NeXusBaseClass\n",
      "nexus_ontology_owlready_tmp.MetaDataConcept\n",
      "nexus_ontology_owlready_tmp.OntologicalConcept\n",
      "nexus_ontology_owlready_tmp.NeXusField\n",
      "nexus_ontology_owlready_tmp.NeXusUnitCategory\n",
      "nexus_ontology_owlready_tmp.Catalogue1Term\n",
      "nexus_ontology_owlready_tmp.PaNmetaDataConcept\n",
      "nexus_ontology_owlready_tmp.Catalogue1Term_sample_temperature\n",
      "nexus_ontology_owlready_tmp.NXsample_temperature\n",
      "nexus_ontology_owlready_tmp.Catalogue2Term\n",
      "nexus_ontology_owlready_tmp.ElectricField\n",
      "nexus_ontology_owlready_tmp.ThermodynamicConcept\n",
      "nexus_ontology_owlready_tmp.ExperimentalSampleSpecimen\n",
      "nexus_ontology_owlready_tmp.Geometry\n",
      "nexus_ontology_owlready_tmp.J\n",
      "nexus_ontology_owlready_tmp.NX_ENERGY\n",
      "nexus_ontology_owlready_tmp.MagneticField\n",
      "nexus_ontology_owlready_tmp.Measure\n",
      "nexus_ontology_owlready_tmp.NX_LENGTH\n",
      "nexus_ontology_owlready_tmp.NX_TEMPERATURE\n",
      "nexus_ontology_owlready_tmp.NXaperture\n",
      "nexus_ontology_owlready_tmp.NXgeometry\n",
      "nexus_ontology_owlready_tmp.NXnote\n",
      "nexus_ontology_owlready_tmp.NXattenuator\n",
      "nexus_ontology_owlready_tmp.NXbaseClassInDefinition\n",
      "nexus_ontology_owlready_tmp.NXbeam\n",
      "nexus_ontology_owlready_tmp.NXbeamInNXmx\n",
      "nexus_ontology_owlready_tmp.NXmx\n",
      "nexus_ontology_owlready_tmp.NeXusDefinition\n",
      "nexus_ontology_owlready_tmp.NeXusConcept\n",
      "nexus_ontology_owlready_tmp.NXsample\n",
      "nexus_ontology_owlready_tmp.NXsample_chemical_formula\n",
      "nexus_ontology_owlready_tmp.Temperature\n",
      "nexus_ontology_owlready_tmp.Pressure\n",
      "nexus_ontology_owlready_tmp.TemperatureMeasure\n",
      "nexus_ontology_owlready_tmp.keV\n"
     ]
    }
   ],
   "source": [
    "for cls in onto.classes():\n",
    "    print(cls)"
   ]
  },
  {
   "cell_type": "code",
   "execution_count": 18,
   "metadata": {},
   "outputs": [],
   "source": [
    "#add a class under Thing\n",
    "class my_class(Thing):\n",
    "    namespace = onto"
   ]
  },
  {
   "cell_type": "code",
   "execution_count": 28,
   "metadata": {},
   "outputs": [],
   "source": [
    "#add a class under NeXusBaseClass\n",
    "class my_baseclass_1(onto.NeXusBaseClass):\n",
    "    namespace = onto"
   ]
  },
  {
   "cell_type": "code",
   "execution_count": 27,
   "metadata": {},
   "outputs": [
    {
     "data": {
      "text/plain": [
       "[nexus_ontology_owlready_tmp.NXobject,\n",
       " nexus_ontology_owlready_tmp.citesGroup.some(nexus_ontology_owlready_tmp.NeXusBaseClass)]"
      ]
     },
     "execution_count": 27,
     "metadata": {},
     "output_type": "execute_result"
    }
   ],
   "source": [
    "#onto.NXobject\n",
    "onto.NeXusBaseClass.is_a"
   ]
  },
  {
   "cell_type": "code",
   "execution_count": 41,
   "metadata": {},
   "outputs": [],
   "source": [
    "baseclass_list = ['myclass1', 'myclass2', 'myclass3', 'myclass4', 'myclass5', 'myclass6']\n",
    "#    classdict[bclass] = types.new_class(bclass, (onto.NeXusBaseClass,), kwds = {\"namespace\" : onto})\n",
    "#    classdict[bclass] = types.new_class(bclass, (onto.NeXusBaseClass,), kwds = {\"comment\" : 'my comment'}) # removed namespace - what does that do?\n",
    "\n",
    "classdict = {}\n",
    "for bclass in baseclass_list:\n",
    "    classdict[bclass] = types.new_class(bclass, (onto.NeXusBaseClass,))\n",
    "    classdict[bclass].comment = 'Comment for ' + bclass\n",
    "\n",
    "#onto.save()"
   ]
  },
  {
   "cell_type": "code",
   "execution_count": 46,
   "metadata": {},
   "outputs": [],
   "source": [
    "onto.save()"
   ]
  },
  {
   "cell_type": "code",
   "execution_count": 42,
   "metadata": {},
   "outputs": [
    {
     "name": "stdout",
     "output_type": "stream",
     "text": [
      "nexus_ontology_owlready_tmp.NXobject\n",
      "nexus_ontology_owlready_tmp.NeXusBaseClass\n",
      "nexus_ontology_owlready_tmp.MetaDataConcept\n",
      "nexus_ontology_owlready_tmp.OntologicalConcept\n",
      "nexus_ontology_owlready_tmp.NeXusField\n",
      "nexus_ontology_owlready_tmp.NeXusUnitCategory\n",
      "nexus_ontology_owlready_tmp.Catalogue1Term\n",
      "nexus_ontology_owlready_tmp.PaNmetaDataConcept\n",
      "nexus_ontology_owlready_tmp.Catalogue1Term_sample_temperature\n",
      "nexus_ontology_owlready_tmp.NXsample_temperature\n",
      "nexus_ontology_owlready_tmp.Catalogue2Term\n",
      "nexus_ontology_owlready_tmp.ElectricField\n",
      "nexus_ontology_owlready_tmp.ThermodynamicConcept\n",
      "nexus_ontology_owlready_tmp.ExperimentalSampleSpecimen\n",
      "nexus_ontology_owlready_tmp.Geometry\n",
      "nexus_ontology_owlready_tmp.J\n",
      "nexus_ontology_owlready_tmp.NX_ENERGY\n",
      "nexus_ontology_owlready_tmp.MagneticField\n",
      "nexus_ontology_owlready_tmp.Measure\n",
      "nexus_ontology_owlready_tmp.NX_LENGTH\n",
      "nexus_ontology_owlready_tmp.NX_TEMPERATURE\n",
      "nexus_ontology_owlready_tmp.NXaperture\n",
      "nexus_ontology_owlready_tmp.NXgeometry\n",
      "nexus_ontology_owlready_tmp.NXnote\n",
      "nexus_ontology_owlready_tmp.NXattenuator\n",
      "nexus_ontology_owlready_tmp.NXbaseClassInDefinition\n",
      "nexus_ontology_owlready_tmp.NXbeam\n",
      "nexus_ontology_owlready_tmp.NXbeamInNXmx\n",
      "nexus_ontology_owlready_tmp.NXmx\n",
      "nexus_ontology_owlready_tmp.NeXusDefinition\n",
      "nexus_ontology_owlready_tmp.NeXusConcept\n",
      "nexus_ontology_owlready_tmp.NXsample\n",
      "nexus_ontology_owlready_tmp.NXsample_chemical_formula\n",
      "nexus_ontology_owlready_tmp.Temperature\n",
      "nexus_ontology_owlready_tmp.Pressure\n",
      "nexus_ontology_owlready_tmp.TemperatureMeasure\n",
      "nexus_ontology_owlready_tmp.keV\n",
      "nexus_ontology_owlready_tmp.my_class\n",
      "nexus_ontology_owlready_tmp.my_baseclass_1\n",
      "nexus_ontology_owlready_tmp.myclass1\n",
      "nexus_ontology_owlready_tmp.myclass2\n",
      "nexus_ontology_owlready_tmp.myclass3\n",
      "nexus_ontology_owlready_tmp.myclass4\n",
      "nexus_ontology_owlready_tmp.myclass5\n",
      "nexus_ontology_owlready_tmp.myclass6\n"
     ]
    }
   ],
   "source": [
    "for cls in onto.classes():\n",
    "    print(cls)"
   ]
  },
  {
   "cell_type": "code",
   "execution_count": 45,
   "metadata": {},
   "outputs": [
    {
     "data": {
      "text/plain": [
       "['Comment for myclass6']"
      ]
     },
     "execution_count": 45,
     "metadata": {},
     "output_type": "execute_result"
    }
   ],
   "source": [
    "onto.myclass6.comment"
   ]
  },
  {
   "cell_type": "code",
   "execution_count": null,
   "metadata": {},
   "outputs": [],
   "source": []
  }
 ],
 "metadata": {
  "kernelspec": {
   "display_name": "Python 3.8 [Conda DLS]",
   "language": "python",
   "name": "conda-env-Conda_DLS-python3.8"
  },
  "language_info": {
   "codemirror_mode": {
    "name": "ipython",
    "version": 3
   },
   "file_extension": ".py",
   "mimetype": "text/x-python",
   "name": "python",
   "nbconvert_exporter": "python",
   "pygments_lexer": "ipython3",
   "version": "3.8.0"
  }
 },
 "nbformat": 4,
 "nbformat_minor": 2
}
