{
 "cells": [
  {
   "cell_type": "code",
   "execution_count": 46,
   "metadata": {},
   "outputs": [],
   "source": [
    "import numpy as np\n",
    "\n",
    "### include virtual source blowup (x and y)\n",
    "### calclate speckle size on detector\n"
   ]
  },
  {
   "cell_type": "code",
   "execution_count": 47,
   "metadata": {},
   "outputs": [],
   "source": [
    "# D-II 157 pm\n",
    "# sigma x = 29 um\n",
    "# sigma y = 4.1 um\n",
    "# D-II 81 pm\n",
    "# sigma x = 12.7 um\n",
    "# sigma y = 3.6 um\n",
    "\n",
    "# fwhm = 2.355 * sigma"
   ]
  },
  {
   "cell_type": "code",
   "execution_count": 48,
   "metadata": {},
   "outputs": [],
   "source": [
    "s_fwhm = 2.355\n",
    "\n",
    "SourceSizeXmm = s_fwhm * .0127\n",
    "#SourceSizeXmm = .2\n",
    "SourceSizeYmm = s_fwhm * .0036\n",
    "LambdaA       = 12.4/6.0\n",
    "SlitDistm     = 50\n",
    "MirrorDistXmm = 1000       #X focus mirror-sample distance\n",
    "MirrorDistYmm = 1000       #X focus mirror-sample distance\n",
    "BeamSizeXum   = 3\n",
    "BeamSizeYum   = 2\n",
    "DetectorDistm = 2"
   ]
  },
  {
   "cell_type": "code",
   "execution_count": 49,
   "metadata": {},
   "outputs": [
    {
     "name": "stdout",
     "output_type": "stream",
     "text": [
      "Coherence Lenth X: 0.055 mm\n",
      "Coherence Lenth Y: 0.194 mm\n",
      "Perfect focus size X: 0.60 um\n",
      "Perfect focus size Y: 0.17 um\n",
      "Actual beam size X: 3.0 um\n",
      "Actual beam size Y: 2.0 um\n",
      "Speckle size X: 69 um\n",
      "Speckle size Y: 103 um\n",
      "Beam divergence broadening: 1 um\n"
     ]
    }
   ],
   "source": [
    "CoherenceLenthXmm = LambdaA * 1e-7 * SlitDistm * 1e3 /(2 *np.pi) / SourceSizeXmm\n",
    "CoherenceLenthYmm = LambdaA * 1e-7 * SlitDistm * 1e3 /(2 *np.pi) / SourceSizeYmm\n",
    "\n",
    "FocusSizeXum = SourceSizeXmm * MirrorDistXmm / (SlitDistm * 1e3) * 1e3\n",
    "FocusSizeYum = SourceSizeYmm * MirrorDistYmm / (SlitDistm * 1e3) * 1e3\n",
    "\n",
    "# Need to check this result - quick calc by SPC. Seems to be the same in both directions. Assumes symmetric reflection.\n",
    "AngularSpeckleSizeXrad = LambdaA * 1e-10 /2 / (BeamSizeXum * 1e-6)\n",
    "AngularSpeckleSizeYrad = LambdaA * 1e-10 /2 / (BeamSizeYum * 1e-6)\n",
    "\n",
    "SpeckleSizeXum = DetectorDistm * AngularSpeckleSizeXrad * 1e6\n",
    "SpeckleSizeYum = DetectorDistm * AngularSpeckleSizeYrad * 1e6\n",
    "\n",
    "SourceSizemm = SourceSizeXmm #scattering is horizontaal (else source size is y size)\n",
    "BeamDivergenceRad = SourceSizemm/1e3 / SlitDistm\n",
    "DivergenceBroadeningUm = BeamDivergenceRad * DetectorDistm * 1e6\n",
    "\n",
    "\n",
    "print('Coherence Lenth X: %.3f mm' % CoherenceLenthXmm)\n",
    "print('Coherence Lenth Y: %.3f mm' % CoherenceLenthYmm)\n",
    "\n",
    "print('Perfect focus size X: %.2f um' % FocusSizeXum)\n",
    "print('Perfect focus size Y: %.2f um' % FocusSizeYum)\n",
    "\n",
    "print('Actual beam size X: %.1f um' % BeamSizeXum)\n",
    "print('Actual beam size Y: %.1f um' % BeamSizeYum)\n",
    "\n",
    "print('Speckle size X: %.0f um' % SpeckleSizeXum)\n",
    "print('Speckle size Y: %.0f um' % SpeckleSizeYum)\n",
    "print('Beam divergence broadening: %.0f um' % DivergenceBroadeningUm)\n"
   ]
  },
  {
   "cell_type": "code",
   "execution_count": 50,
   "metadata": {},
   "outputs": [
    {
     "data": {
      "text/plain": [
       "0.002666693519608617"
      ]
     },
     "execution_count": 50,
     "metadata": {},
     "output_type": "execute_result"
    }
   ],
   "source": [
    "CoherenceLenthXmm * CoherenceLenthYmm / 4"
   ]
  },
  {
   "cell_type": "code",
   "execution_count": 51,
   "metadata": {},
   "outputs": [
    {
     "name": "stdout",
     "output_type": "stream",
     "text": [
      "q = (sin(theta)/lambda: 0.342148\n",
      "Delta q/q abs: 3.0e-07\n",
      "Delta q/q abs mono: 1.9e-04\n",
      "Delta q/q abs tot: 1.9e-04\n",
      "Delta q/q abs pixel: 2.2e-04\n",
      "Delta q/q para: 8.7e-07\n"
     ]
    }
   ],
   "source": [
    "#Q resolution estimates\n",
    "# Assume beam angle increased by alpha and beta on incident and scattered beam\n",
    "# q = sin(theta)/lambda\n",
    "# delta q (perp) = q/(2 tan(theta)) (alpha + beta)\n",
    "# delta q (para) = 1/2 (alpha - beta)\n",
    "# assume here that alpha + beta (for perp) and alpha - beta (for para) are both limited only by beam divergence\n",
    "BraggTheta = np.pi/4\n",
    "q = np.sin(BraggTheta) / LambdaA\n",
    "FracDeltaQperp = 1/2/np.tan(BraggTheta) * BeamDivergenceRad #also abs delta q\n",
    "FracDeltaQpara = 1/2 * BeamDivergenceRad / q\n",
    "FracEwidth = 1.5/8000 # assume ~ 1.5 eV @ 8 keV\n",
    "FracDeltaQperpTot = np.sqrt(FracDeltaQperp**2 + FracEwidth**2)\n",
    "PixelDevergence = 172*1e-6/.4\n",
    "FracDeltaQperpPixel = 1/2/np.tan(BraggTheta) * PixelDevergence\n",
    "\n",
    "print('q = (sin(theta)/lambda: %.6f' % q)\n",
    "print('Delta q/q abs: %.1e' % FracDeltaQperp)\n",
    "print('Delta q/q abs mono: %.1e' % FracEwidth)\n",
    "print('Delta q/q abs tot: %.1e' % FracDeltaQperpTot)\n",
    "print('Delta q/q abs pixel: %.1e' % FracDeltaQperpPixel)\n",
    "print('Delta q/q para: %.1e' % FracDeltaQpara)"
   ]
  },
  {
   "cell_type": "code",
   "execution_count": 52,
   "metadata": {},
   "outputs": [
    {
     "name": "stdout",
     "output_type": "stream",
     "text": [
      "$\\theta$\n"
     ]
    }
   ],
   "source": [
    "print(r'$\\theta$')"
   ]
  },
  {
   "cell_type": "code",
   "execution_count": 45,
   "metadata": {},
   "outputs": [
    {
     "data": {
      "text/plain": [
       "0.6536198703460923"
      ]
     },
     "execution_count": 45,
     "metadata": {},
     "output_type": "execute_result"
    }
   ],
   "source": [
    "1.9/np.sqrt(1.9**2 + 2.2**2)"
   ]
  },
  {
   "cell_type": "code",
   "execution_count": null,
   "metadata": {},
   "outputs": [],
   "source": []
  }
 ],
 "metadata": {
  "kernelspec": {
   "display_name": "Python 3.8 [Conda DLS]",
   "language": "python",
   "name": "conda-env-Conda_DLS-python3.8"
  },
  "language_info": {
   "codemirror_mode": {
    "name": "ipython",
    "version": 3
   },
   "file_extension": ".py",
   "mimetype": "text/x-python",
   "name": "python",
   "nbconvert_exporter": "python",
   "pygments_lexer": "ipython3",
   "version": "3.8.0"
  }
 },
 "nbformat": 4,
 "nbformat_minor": 2
}
