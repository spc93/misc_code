{
 "cells": [
  {
   "cell_type": "code",
   "execution_count": 35,
   "metadata": {},
   "outputs": [],
   "source": [
    "import requests\n",
    "import json"
   ]
  },
  {
   "cell_type": "code",
   "execution_count": 2,
   "metadata": {},
   "outputs": [],
   "source": [
    "r = requests.get(\"https://zenodo.org/api/deposit/depositions\")\n",
    "r.status_code"
   ]
  },
  {
   "cell_type": "code",
   "execution_count": 4,
   "metadata": {},
   "outputs": [
    {
     "data": {
      "text/plain": [
       "{'message': \"The server could not verify that you are authorized to access the URL requested.  You either supplied the wrong credentials (e.g. a bad password), or your browser doesn't understand how to supply the credentials required.\",\n",
       " 'status': 401}"
      ]
     },
     "execution_count": 4,
     "metadata": {},
     "output_type": "execute_result"
    }
   ],
   "source": [
    "r.json()"
   ]
  },
  {
   "cell_type": "code",
   "execution_count": 10,
   "metadata": {},
   "outputs": [
    {
     "data": {
      "text/plain": [
       "401"
      ]
     },
     "execution_count": 10,
     "metadata": {},
     "output_type": "execute_result"
    }
   ],
   "source": [
    "#### try sandbox\n",
    "s = requests.get(\"https://sandbox.zenodo.org/api/deposit/depositions\")\n",
    "s.status_code"
   ]
  },
  {
   "cell_type": "code",
   "execution_count": 13,
   "metadata": {},
   "outputs": [],
   "source": [
    "#### try crap\n",
    "#t = requests.get(\"https://earwax.zenodo.org/api/deposit/depositions\")\n",
    "# fails!\n"
   ]
  },
  {
   "cell_type": "code",
   "execution_count": 15,
   "metadata": {},
   "outputs": [],
   "source": [
    "# follow instruction in https://developers.zenodo.org/#quickstart-upload\n",
    "ACCESS_TOKEN = 'NXvfINcjMkNGK5L56qhCOg0cI18mGx80Fk2lLuqyzwAR2PctdSzX6ni62bHK'"
   ]
  },
  {
   "cell_type": "code",
   "execution_count": 17,
   "metadata": {},
   "outputs": [
    {
     "data": {
      "text/plain": [
       "[]"
      ]
     },
     "execution_count": 17,
     "metadata": {},
     "output_type": "execute_result"
    }
   ],
   "source": [
    "r = requests.get('https://zenodo.org/api/deposit/depositions',\n",
    "...                  params={'access_token': ACCESS_TOKEN})\n",
    "r.status_code\n",
    "r.json()"
   ]
  },
  {
   "cell_type": "code",
   "execution_count": 22,
   "metadata": {},
   "outputs": [
    {
     "data": {
      "text/plain": [
       "{'conceptrecid': '3764780',\n",
       " 'created': '2020-04-24T11:27:54.814591+00:00',\n",
       " 'files': [],\n",
       " 'id': 3764781,\n",
       " 'links': {'bucket': 'https://zenodo.org/api/files/54502d2d-70b1-47d8-8f5a-9d97ccad27f1',\n",
       "  'discard': 'https://zenodo.org/api/deposit/depositions/3764781/actions/discard',\n",
       "  'edit': 'https://zenodo.org/api/deposit/depositions/3764781/actions/edit',\n",
       "  'files': 'https://zenodo.org/api/deposit/depositions/3764781/files',\n",
       "  'html': 'https://zenodo.org/deposit/3764781',\n",
       "  'latest_draft': 'https://zenodo.org/api/deposit/depositions/3764781',\n",
       "  'latest_draft_html': 'https://zenodo.org/deposit/3764781',\n",
       "  'publish': 'https://zenodo.org/api/deposit/depositions/3764781/actions/publish',\n",
       "  'self': 'https://zenodo.org/api/deposit/depositions/3764781'},\n",
       " 'metadata': {'prereserve_doi': {'doi': '10.5281/zenodo.3764781',\n",
       "   'recid': 3764781}},\n",
       " 'modified': '2020-04-24T11:27:54.814599+00:00',\n",
       " 'owner': 34563,\n",
       " 'record_id': 3764781,\n",
       " 'state': 'unsubmitted',\n",
       " 'submitted': False,\n",
       " 'title': ''}"
      ]
     },
     "execution_count": 22,
     "metadata": {},
     "output_type": "execute_result"
    }
   ],
   "source": [
    "headers = {\"Content-Type\": \"application/json\"}\n",
    "r = requests.post('https://zenodo.org/api/deposit/depositions', \n",
    "                  params={'access_token': ACCESS_TOKEN}, json={}, headers=headers)\n",
    "\n",
    "r.status_code\n",
    "r.json()"
   ]
  },
  {
   "cell_type": "code",
   "execution_count": 37,
   "metadata": {},
   "outputs": [
    {
     "data": {
      "text/plain": [
       "{'checksum': '98a55ab876087f9a4d2570d017f212c5',\n",
       " 'filename': '815893.nxs',\n",
       " 'filesize': 531712,\n",
       " 'id': '82fc0b2d-e981-4333-bf40-85dcf50d9c99',\n",
       " 'links': {'download': 'https://zenodo.org/api/files/54502d2d-70b1-47d8-8f5a-9d97ccad27f1/815893.nxs',\n",
       "  'self': 'https://zenodo.org/api/deposit/depositions/3764781/files/82fc0b2d-e981-4333-bf40-85dcf50d9c99'}}"
      ]
     },
     "execution_count": 37,
     "metadata": {},
     "output_type": "execute_result"
    }
   ],
   "source": [
    "# upload a file\n",
    "# Get the deposition id from the previous response\n",
    "\n",
    "\n",
    "filename = '/dls/science/users/spc93/misc_nexus_data/modified/815893.nxs'\n",
    "\n",
    "deposition_id = r.json()['id']\n",
    "data = {'name': '815893.nxs'}\n",
    "files = {'file': open(filename, 'rb')}\n",
    "\n",
    "r = requests.post('https://zenodo.org/api/deposit/depositions/%s/files' % deposition_id,\n",
    "    params={'access_token': ACCESS_TOKEN}, data=data, files=files)\n",
    "\n",
    "r.status_code\n",
    "\n",
    "r.json()\n",
    "\n"
   ]
  },
  {
   "cell_type": "code",
   "execution_count": 36,
   "metadata": {},
   "outputs": [
    {
     "data": {
      "text/plain": [
       "200"
      ]
     },
     "execution_count": 36,
     "metadata": {},
     "output_type": "execute_result"
    }
   ],
   "source": [
    "# add metadata\n",
    "data = {\n",
    "    'metadata': {\n",
    "        'title': 'My first upload',\n",
    "        'upload_type': 'poster',\n",
    "        'description': 'This is my first upload',\n",
    "        'creators': [{'name': 'Doe, John',\n",
    "            'affiliation': 'Zenodo'}]\n",
    "            }\n",
    "}\n",
    "\n",
    "r = requests.put('https://zenodo.org/api/deposit/depositions/%s' % deposition_id,\n",
    "    params={'access_token': ACCESS_TOKEN}, data=json.dumps(data),\n",
    "    headers=headers)\n",
    "\n",
    "r.status_code\n"
   ]
  },
  {
   "cell_type": "raw",
   "metadata": {},
   "source": [
    "# to publish - done't do this !!!!\n",
    ">>> r = requests.post('https://zenodo.org/api/deposit/depositions/%s/actions/publish' % deposition_id,\n",
    "                      params={'access_token': ACCESS_TOKEN} )\n",
    ">>> r.status_code\n",
    "202"
   ]
  }
 ],
 "metadata": {
  "kernelspec": {
   "display_name": "Python 3.8 [Conda DLS]",
   "language": "python",
   "name": "conda-env-Conda_DLS-python3.8"
  },
  "language_info": {
   "codemirror_mode": {
    "name": "ipython",
    "version": 3
   },
   "file_extension": ".py",
   "mimetype": "text/x-python",
   "name": "python",
   "nbconvert_exporter": "python",
   "pygments_lexer": "ipython3",
   "version": "3.8.0"
  }
 },
 "nbformat": 4,
 "nbformat_minor": 2
}
