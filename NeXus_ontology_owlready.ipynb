{
 "cells": [
  {
   "cell_type": "code",
   "execution_count": 1,
   "metadata": {
    "scrolled": true
   },
   "outputs": [
    {
     "name": "stderr",
     "output_type": "stream",
     "text": [
      "* Owlready2 * Warning: optimized Cython parser module 'owlready2_optimized' is not available, defaulting to slower Python implementation\n"
     ]
    }
   ],
   "source": [
    "#pip install owlready2\n",
    "\n",
    "from owlready2 import *\n",
    "#onto_path.append(\"/dls/science/users/spc93/ontology\")\n",
    "\n",
    "onto = get_ontology('file:///home/spc93/ontology/NeXus_onto1.owl')\n",
    "\n"
   ]
  },
  {
   "cell_type": "markdown",
   "metadata": {},
   "source": [
    "Must use long names for NeXus fields as the names need to be unique in the ontology namespace\n",
    "Property restrictions not implemented - are they needed? how to make anonymous class?\n",
    "Treat units as classes with superclass Unit Category?? (or individuals?)\n",
    "\n",
    "NeXus ADs have fields that sometimes have minOccurs attribute (string)\n",
    "Defaults (if not set): 0 (base classes); 1 (definitions)\n",
    "\n",
    "If extended other class or in definition (extended base class) then subclass gives only new fields. Existing fields are given implicitly.\n",
    "\n",
    "??? The ontology cannot then give a new value for minOccurs so minOccurs can't be in the ontology??? - this needs some thought\n",
    "\n",
    "Limitations of the ontology:\n",
    "1. Need long names to avoid name clashes\n",
    "2. Can't have minOccurs as they belong to the short field names\n",
    "No - can have all fields (with long names) but set 'uniqueField' to True or False (use only unique fields for catalogue names). Assume extends is a subclassing mechanism with no overload. (Also implies minOccurs >= superclass version).\n"
   ]
  },
  {
   "cell_type": "code",
   "execution_count": 19,
   "metadata": {},
   "outputs": [
    {
     "name": "stdout",
     "output_type": "stream",
     "text": [
      "Class\t\tComment\n",
      "\n",
      "NeXus_onto1.NeXus \t NeXus concept bla bla\n",
      "NeXus_onto1.NeXusField \t NeXus field\n",
      "NeXus_onto1.NXobject \t NXobject\n",
      "NeXus_onto1.NeXusBaseClass \t NeXusBaseClass\n",
      "NeXus_onto1.NeXusDefinition \t NeXus Application Definition\n",
      "NeXus_onto1.NeXusUnitCategory \t NeXus Unit Category\n",
      "NeXus_onto1.NeXusUnit \t NeXus Unit\n",
      "\n",
      "Property\t\tComment\n",
      "\n",
      "NeXus_onto1.hasField \t NXobject has NeXus field relationship\n",
      "NeXus_onto1.citesGroup \t NXobject cites base class relationship\n",
      "NeXus_onto1.hasUnit \t NeXus Field has Unit relationship\n",
      "\n",
      "Data\t\tComment\n",
      "\n",
      "NeXus_onto1.hasNXDLsource \t NXobject NXDL url as a string (xx change to url type)\n"
     ]
    },
    {
     "name": "stderr",
     "output_type": "stream",
     "text": [
      "* Owlready2 * Running HermiT...\n",
      "    java -Xmx2000M -cp /home/spc93/.local/lib/python3.8/site-packages/owlready2/hermit:/home/spc93/.local/lib/python3.8/site-packages/owlready2/hermit/HermiT.jar org.semanticweb.HermiT.cli.CommandLine -c -O -D -I file:////tmp/tmp4eg76zvw\n"
     ]
    },
    {
     "ename": "FileNotFoundError",
     "evalue": "[Errno 2] No such file or directory: 'java'",
     "output_type": "error",
     "traceback": [
      "\u001b[0;31m---------------------------------------------------------------------------\u001b[0m",
      "\u001b[0;31mFileNotFoundError\u001b[0m                         Traceback (most recent call last)",
      "\u001b[0;32m<ipython-input-19-13e0d350dea4>\u001b[0m in \u001b[0;36m<module>\u001b[0;34m\u001b[0m\n\u001b[1;32m     56\u001b[0m     \u001b[0mprint\u001b[0m\u001b[0;34m(\u001b[0m\u001b[0mprop\u001b[0m\u001b[0;34m,\u001b[0m \u001b[0;34m'\\t'\u001b[0m\u001b[0;34m,\u001b[0m \u001b[0mprop\u001b[0m\u001b[0;34m.\u001b[0m\u001b[0mcomment\u001b[0m\u001b[0;34m[\u001b[0m\u001b[0;36m0\u001b[0m\u001b[0;34m]\u001b[0m\u001b[0;34m)\u001b[0m\u001b[0;34m\u001b[0m\u001b[0;34m\u001b[0m\u001b[0m\n\u001b[1;32m     57\u001b[0m \u001b[0;34m\u001b[0m\u001b[0m\n\u001b[0;32m---> 58\u001b[0;31m \u001b[0msync_reasoner\u001b[0m\u001b[0;34m(\u001b[0m\u001b[0;34m)\u001b[0m\u001b[0;34m\u001b[0m\u001b[0;34m\u001b[0m\u001b[0m\n\u001b[0m\u001b[1;32m     59\u001b[0m \u001b[0;31m#NeXusBaseClass.is_a\u001b[0m\u001b[0;34m\u001b[0m\u001b[0;34m\u001b[0m\u001b[0;34m\u001b[0m\u001b[0m\n",
      "\u001b[0;32m~/.local/lib/python3.8/site-packages/owlready2/reasoning.py\u001b[0m in \u001b[0;36msync_reasoner_hermit\u001b[0;34m(x, infer_property_values, debug, keep_tmp_file)\u001b[0m\n\u001b[1;32m    134\u001b[0m \u001b[0;34m\u001b[0m\u001b[0m\n\u001b[1;32m    135\u001b[0m     \u001b[0;32mtry\u001b[0m\u001b[0;34m:\u001b[0m\u001b[0;34m\u001b[0m\u001b[0;34m\u001b[0m\u001b[0m\n\u001b[0;32m--> 136\u001b[0;31m       \u001b[0moutput\u001b[0m \u001b[0;34m=\u001b[0m \u001b[0msubprocess\u001b[0m\u001b[0;34m.\u001b[0m\u001b[0mcheck_output\u001b[0m\u001b[0;34m(\u001b[0m\u001b[0mcommand\u001b[0m\u001b[0;34m,\u001b[0m \u001b[0mstderr\u001b[0m \u001b[0;34m=\u001b[0m \u001b[0msubprocess\u001b[0m\u001b[0;34m.\u001b[0m\u001b[0mSTDOUT\u001b[0m\u001b[0;34m)\u001b[0m\u001b[0;34m\u001b[0m\u001b[0;34m\u001b[0m\u001b[0m\n\u001b[0m\u001b[1;32m    137\u001b[0m     \u001b[0;32mexcept\u001b[0m \u001b[0msubprocess\u001b[0m\u001b[0;34m.\u001b[0m\u001b[0mCalledProcessError\u001b[0m \u001b[0;32mas\u001b[0m \u001b[0me\u001b[0m\u001b[0;34m:\u001b[0m\u001b[0;34m\u001b[0m\u001b[0;34m\u001b[0m\u001b[0m\n\u001b[1;32m    138\u001b[0m       \u001b[0;32mif\u001b[0m \u001b[0;34m(\u001b[0m\u001b[0me\u001b[0m\u001b[0;34m.\u001b[0m\u001b[0mreturncode\u001b[0m \u001b[0;34m==\u001b[0m \u001b[0;36m1\u001b[0m\u001b[0;34m)\u001b[0m \u001b[0;32mand\u001b[0m \u001b[0;34m(\u001b[0m\u001b[0;34mb\"Inconsistent ontology\"\u001b[0m \u001b[0;32min\u001b[0m \u001b[0;34m(\u001b[0m\u001b[0me\u001b[0m\u001b[0;34m.\u001b[0m\u001b[0moutput\u001b[0m \u001b[0;32mor\u001b[0m \u001b[0;34mb\"\"\u001b[0m\u001b[0;34m)\u001b[0m\u001b[0;34m)\u001b[0m\u001b[0;34m:\u001b[0m\u001b[0;34m\u001b[0m\u001b[0;34m\u001b[0m\u001b[0m\n",
      "\u001b[0;32m/dls_sw/apps/python/anaconda/4.6.14/64/envs/python3.8/lib/python3.8/subprocess.py\u001b[0m in \u001b[0;36mcheck_output\u001b[0;34m(timeout, *popenargs, **kwargs)\u001b[0m\n\u001b[1;32m    409\u001b[0m         \u001b[0mkwargs\u001b[0m\u001b[0;34m[\u001b[0m\u001b[0;34m'input'\u001b[0m\u001b[0;34m]\u001b[0m \u001b[0;34m=\u001b[0m \u001b[0;34m''\u001b[0m \u001b[0;32mif\u001b[0m \u001b[0mkwargs\u001b[0m\u001b[0;34m.\u001b[0m\u001b[0mget\u001b[0m\u001b[0;34m(\u001b[0m\u001b[0;34m'universal_newlines'\u001b[0m\u001b[0;34m,\u001b[0m \u001b[0;32mFalse\u001b[0m\u001b[0;34m)\u001b[0m \u001b[0;32melse\u001b[0m \u001b[0;34mb''\u001b[0m\u001b[0;34m\u001b[0m\u001b[0;34m\u001b[0m\u001b[0m\n\u001b[1;32m    410\u001b[0m \u001b[0;34m\u001b[0m\u001b[0m\n\u001b[0;32m--> 411\u001b[0;31m     return run(*popenargs, stdout=PIPE, timeout=timeout, check=True,\n\u001b[0m\u001b[1;32m    412\u001b[0m                **kwargs).stdout\n\u001b[1;32m    413\u001b[0m \u001b[0;34m\u001b[0m\u001b[0m\n",
      "\u001b[0;32m/dls_sw/apps/python/anaconda/4.6.14/64/envs/python3.8/lib/python3.8/subprocess.py\u001b[0m in \u001b[0;36mrun\u001b[0;34m(input, capture_output, timeout, check, *popenargs, **kwargs)\u001b[0m\n\u001b[1;32m    487\u001b[0m         \u001b[0mkwargs\u001b[0m\u001b[0;34m[\u001b[0m\u001b[0;34m'stderr'\u001b[0m\u001b[0;34m]\u001b[0m \u001b[0;34m=\u001b[0m \u001b[0mPIPE\u001b[0m\u001b[0;34m\u001b[0m\u001b[0;34m\u001b[0m\u001b[0m\n\u001b[1;32m    488\u001b[0m \u001b[0;34m\u001b[0m\u001b[0m\n\u001b[0;32m--> 489\u001b[0;31m     \u001b[0;32mwith\u001b[0m \u001b[0mPopen\u001b[0m\u001b[0;34m(\u001b[0m\u001b[0;34m*\u001b[0m\u001b[0mpopenargs\u001b[0m\u001b[0;34m,\u001b[0m \u001b[0;34m**\u001b[0m\u001b[0mkwargs\u001b[0m\u001b[0;34m)\u001b[0m \u001b[0;32mas\u001b[0m \u001b[0mprocess\u001b[0m\u001b[0;34m:\u001b[0m\u001b[0;34m\u001b[0m\u001b[0;34m\u001b[0m\u001b[0m\n\u001b[0m\u001b[1;32m    490\u001b[0m         \u001b[0;32mtry\u001b[0m\u001b[0;34m:\u001b[0m\u001b[0;34m\u001b[0m\u001b[0;34m\u001b[0m\u001b[0m\n\u001b[1;32m    491\u001b[0m             \u001b[0mstdout\u001b[0m\u001b[0;34m,\u001b[0m \u001b[0mstderr\u001b[0m \u001b[0;34m=\u001b[0m \u001b[0mprocess\u001b[0m\u001b[0;34m.\u001b[0m\u001b[0mcommunicate\u001b[0m\u001b[0;34m(\u001b[0m\u001b[0minput\u001b[0m\u001b[0;34m,\u001b[0m \u001b[0mtimeout\u001b[0m\u001b[0;34m=\u001b[0m\u001b[0mtimeout\u001b[0m\u001b[0;34m)\u001b[0m\u001b[0;34m\u001b[0m\u001b[0;34m\u001b[0m\u001b[0m\n",
      "\u001b[0;32m/dls_sw/apps/python/anaconda/4.6.14/64/envs/python3.8/lib/python3.8/subprocess.py\u001b[0m in \u001b[0;36m__init__\u001b[0;34m(self, args, bufsize, executable, stdin, stdout, stderr, preexec_fn, close_fds, shell, cwd, env, universal_newlines, startupinfo, creationflags, restore_signals, start_new_session, pass_fds, encoding, errors, text)\u001b[0m\n\u001b[1;32m    852\u001b[0m                             encoding=encoding, errors=errors)\n\u001b[1;32m    853\u001b[0m \u001b[0;34m\u001b[0m\u001b[0m\n\u001b[0;32m--> 854\u001b[0;31m             self._execute_child(args, executable, preexec_fn, close_fds,\n\u001b[0m\u001b[1;32m    855\u001b[0m                                 \u001b[0mpass_fds\u001b[0m\u001b[0;34m,\u001b[0m \u001b[0mcwd\u001b[0m\u001b[0;34m,\u001b[0m \u001b[0menv\u001b[0m\u001b[0;34m,\u001b[0m\u001b[0;34m\u001b[0m\u001b[0;34m\u001b[0m\u001b[0m\n\u001b[1;32m    856\u001b[0m                                 \u001b[0mstartupinfo\u001b[0m\u001b[0;34m,\u001b[0m \u001b[0mcreationflags\u001b[0m\u001b[0;34m,\u001b[0m \u001b[0mshell\u001b[0m\u001b[0;34m,\u001b[0m\u001b[0;34m\u001b[0m\u001b[0;34m\u001b[0m\u001b[0m\n",
      "\u001b[0;32m/dls_sw/apps/python/anaconda/4.6.14/64/envs/python3.8/lib/python3.8/subprocess.py\u001b[0m in \u001b[0;36m_execute_child\u001b[0;34m(self, args, executable, preexec_fn, close_fds, pass_fds, cwd, env, startupinfo, creationflags, shell, p2cread, p2cwrite, c2pread, c2pwrite, errread, errwrite, restore_signals, start_new_session)\u001b[0m\n\u001b[1;32m   1700\u001b[0m                     \u001b[0;32mif\u001b[0m \u001b[0merrno_num\u001b[0m \u001b[0;34m!=\u001b[0m \u001b[0;36m0\u001b[0m\u001b[0;34m:\u001b[0m\u001b[0;34m\u001b[0m\u001b[0;34m\u001b[0m\u001b[0m\n\u001b[1;32m   1701\u001b[0m                         \u001b[0merr_msg\u001b[0m \u001b[0;34m=\u001b[0m \u001b[0mos\u001b[0m\u001b[0;34m.\u001b[0m\u001b[0mstrerror\u001b[0m\u001b[0;34m(\u001b[0m\u001b[0merrno_num\u001b[0m\u001b[0;34m)\u001b[0m\u001b[0;34m\u001b[0m\u001b[0;34m\u001b[0m\u001b[0m\n\u001b[0;32m-> 1702\u001b[0;31m                     \u001b[0;32mraise\u001b[0m \u001b[0mchild_exception_type\u001b[0m\u001b[0;34m(\u001b[0m\u001b[0merrno_num\u001b[0m\u001b[0;34m,\u001b[0m \u001b[0merr_msg\u001b[0m\u001b[0;34m,\u001b[0m \u001b[0merr_filename\u001b[0m\u001b[0;34m)\u001b[0m\u001b[0;34m\u001b[0m\u001b[0;34m\u001b[0m\u001b[0m\n\u001b[0m\u001b[1;32m   1703\u001b[0m                 \u001b[0;32mraise\u001b[0m \u001b[0mchild_exception_type\u001b[0m\u001b[0;34m(\u001b[0m\u001b[0merr_msg\u001b[0m\u001b[0;34m)\u001b[0m\u001b[0;34m\u001b[0m\u001b[0;34m\u001b[0m\u001b[0m\n\u001b[1;32m   1704\u001b[0m \u001b[0;34m\u001b[0m\u001b[0m\n",
      "\u001b[0;31mFileNotFoundError\u001b[0m: [Errno 2] No such file or directory: 'java'"
     ]
    }
   ],
   "source": [
    "# seems not to require namespace if using 'with'\n",
    "\n",
    "\n",
    "with onto:\n",
    "\n",
    "    ## Classes (generic)\n",
    "\n",
    "    class NeXus(Thing):\n",
    "        comment = 'NeXus concept bla bla'\n",
    "    \n",
    "    class NeXusField(NeXus):\n",
    "        comment = 'NeXus field. Unique names are created by prepending the NeXus class name to the NeXus field name'\n",
    "\n",
    "    class NXobject(NeXus):\n",
    "        comment = 'NXobject'\n",
    "    \n",
    "    class NeXusBaseClass(NXobject):\n",
    "        comment = 'NeXusBaseClass'\n",
    "    \n",
    "    class NeXusDefinition(NXobject):\n",
    "        comment = 'NeXus Application Definition'\n",
    "        \n",
    "    class NeXusUnitCategory(NeXus):\n",
    "        comment = 'NeXus Unit Category'\n",
    "        \n",
    "    class NeXusUnit(NeXusUnitCategory):\n",
    "        comment = 'NeXus Unit'\n",
    "        \n",
    "    ## properties (generic)\n",
    "    \n",
    "    class hasField(NXobject >> NeXusField):\n",
    "        comment = 'NXobject has NeXus field relationship'\n",
    "        \n",
    "    class hasUnit(NeXusField >> NeXusUnit):\n",
    "        comment = 'NeXus Field has Unit relationship'\n",
    "        \n",
    "    class citesGroup(NXobject >> NeXusBaseClass):\n",
    "        comment = 'NXobject cites base class relationship'\n",
    "        \n",
    "    class hasNXDLsource(NXobject >> str):\n",
    "        comment = 'NXobject NXDL url as a string (xx change to url type)'\n",
    "        \n",
    "    class hasFieldName(NeXusField >> str):\n",
    "        comment = 'NeXus field name of NeXus field. NeXus field names are unique only within the NeXus class in which they are defined.'\n",
    "        \n",
    "    ## relationships (generic)\n",
    "    \n",
    "\n",
    "onto.save()\n",
    "\n",
    "print('Class\\t\\tComment\\n')\n",
    "for cls in onto.classes():\n",
    "    print(cls, '\\t', cls.comment[0])\n",
    "print('\\nProperty\\t\\tComment\\n')\n",
    "for prop in onto.object_properties():\n",
    "    print(prop, '\\t', prop.comment[0])\n",
    "print('\\nData\\t\\tComment\\n')\n",
    "for prop in onto.data_properties():\n",
    "    print(prop, '\\t', prop.comment[0]) \n",
    "    \n",
    "sync_reasoner()\n",
    "#NeXusBaseClass.is_a"
   ]
  },
  {
   "cell_type": "code",
   "execution_count": 18,
   "metadata": {},
   "outputs": [
    {
     "name": "stderr",
     "output_type": "stream",
     "text": [
      "* Owlready2 * Running HermiT...\n",
      "    java -Xmx2000M -cp /home/spc93/.local/lib/python3.8/site-packages/owlready2/hermit:/home/spc93/.local/lib/python3.8/site-packages/owlready2/hermit/HermiT.jar org.semanticweb.HermiT.cli.CommandLine -c -O -D -I file:////tmp/tmp06xcj5u9\n"
     ]
    },
    {
     "ename": "FileNotFoundError",
     "evalue": "[Errno 2] No such file or directory: 'java'",
     "output_type": "error",
     "traceback": [
      "\u001b[0;31m---------------------------------------------------------------------------\u001b[0m",
      "\u001b[0;31mFileNotFoundError\u001b[0m                         Traceback (most recent call last)",
      "\u001b[0;32m<ipython-input-18-33ab36516364>\u001b[0m in \u001b[0;36m<module>\u001b[0;34m\u001b[0m\n\u001b[0;32m----> 1\u001b[0;31m \u001b[0msync_reasoner\u001b[0m\u001b[0;34m(\u001b[0m\u001b[0;34m)\u001b[0m\u001b[0;34m\u001b[0m\u001b[0;34m\u001b[0m\u001b[0m\n\u001b[0m",
      "\u001b[0;32m~/.local/lib/python3.8/site-packages/owlready2/reasoning.py\u001b[0m in \u001b[0;36msync_reasoner_hermit\u001b[0;34m(x, infer_property_values, debug, keep_tmp_file)\u001b[0m\n\u001b[1;32m    134\u001b[0m \u001b[0;34m\u001b[0m\u001b[0m\n\u001b[1;32m    135\u001b[0m     \u001b[0;32mtry\u001b[0m\u001b[0;34m:\u001b[0m\u001b[0;34m\u001b[0m\u001b[0;34m\u001b[0m\u001b[0m\n\u001b[0;32m--> 136\u001b[0;31m       \u001b[0moutput\u001b[0m \u001b[0;34m=\u001b[0m \u001b[0msubprocess\u001b[0m\u001b[0;34m.\u001b[0m\u001b[0mcheck_output\u001b[0m\u001b[0;34m(\u001b[0m\u001b[0mcommand\u001b[0m\u001b[0;34m,\u001b[0m \u001b[0mstderr\u001b[0m \u001b[0;34m=\u001b[0m \u001b[0msubprocess\u001b[0m\u001b[0;34m.\u001b[0m\u001b[0mSTDOUT\u001b[0m\u001b[0;34m)\u001b[0m\u001b[0;34m\u001b[0m\u001b[0;34m\u001b[0m\u001b[0m\n\u001b[0m\u001b[1;32m    137\u001b[0m     \u001b[0;32mexcept\u001b[0m \u001b[0msubprocess\u001b[0m\u001b[0;34m.\u001b[0m\u001b[0mCalledProcessError\u001b[0m \u001b[0;32mas\u001b[0m \u001b[0me\u001b[0m\u001b[0;34m:\u001b[0m\u001b[0;34m\u001b[0m\u001b[0;34m\u001b[0m\u001b[0m\n\u001b[1;32m    138\u001b[0m       \u001b[0;32mif\u001b[0m \u001b[0;34m(\u001b[0m\u001b[0me\u001b[0m\u001b[0;34m.\u001b[0m\u001b[0mreturncode\u001b[0m \u001b[0;34m==\u001b[0m \u001b[0;36m1\u001b[0m\u001b[0;34m)\u001b[0m \u001b[0;32mand\u001b[0m \u001b[0;34m(\u001b[0m\u001b[0;34mb\"Inconsistent ontology\"\u001b[0m \u001b[0;32min\u001b[0m \u001b[0;34m(\u001b[0m\u001b[0me\u001b[0m\u001b[0;34m.\u001b[0m\u001b[0moutput\u001b[0m \u001b[0;32mor\u001b[0m \u001b[0;34mb\"\"\u001b[0m\u001b[0;34m)\u001b[0m\u001b[0;34m)\u001b[0m\u001b[0;34m:\u001b[0m\u001b[0;34m\u001b[0m\u001b[0;34m\u001b[0m\u001b[0m\n",
      "\u001b[0;32m/dls_sw/apps/python/anaconda/4.6.14/64/envs/python3.8/lib/python3.8/subprocess.py\u001b[0m in \u001b[0;36mcheck_output\u001b[0;34m(timeout, *popenargs, **kwargs)\u001b[0m\n\u001b[1;32m    409\u001b[0m         \u001b[0mkwargs\u001b[0m\u001b[0;34m[\u001b[0m\u001b[0;34m'input'\u001b[0m\u001b[0;34m]\u001b[0m \u001b[0;34m=\u001b[0m \u001b[0;34m''\u001b[0m \u001b[0;32mif\u001b[0m \u001b[0mkwargs\u001b[0m\u001b[0;34m.\u001b[0m\u001b[0mget\u001b[0m\u001b[0;34m(\u001b[0m\u001b[0;34m'universal_newlines'\u001b[0m\u001b[0;34m,\u001b[0m \u001b[0;32mFalse\u001b[0m\u001b[0;34m)\u001b[0m \u001b[0;32melse\u001b[0m \u001b[0;34mb''\u001b[0m\u001b[0;34m\u001b[0m\u001b[0;34m\u001b[0m\u001b[0m\n\u001b[1;32m    410\u001b[0m \u001b[0;34m\u001b[0m\u001b[0m\n\u001b[0;32m--> 411\u001b[0;31m     return run(*popenargs, stdout=PIPE, timeout=timeout, check=True,\n\u001b[0m\u001b[1;32m    412\u001b[0m                **kwargs).stdout\n\u001b[1;32m    413\u001b[0m \u001b[0;34m\u001b[0m\u001b[0m\n",
      "\u001b[0;32m/dls_sw/apps/python/anaconda/4.6.14/64/envs/python3.8/lib/python3.8/subprocess.py\u001b[0m in \u001b[0;36mrun\u001b[0;34m(input, capture_output, timeout, check, *popenargs, **kwargs)\u001b[0m\n\u001b[1;32m    487\u001b[0m         \u001b[0mkwargs\u001b[0m\u001b[0;34m[\u001b[0m\u001b[0;34m'stderr'\u001b[0m\u001b[0;34m]\u001b[0m \u001b[0;34m=\u001b[0m \u001b[0mPIPE\u001b[0m\u001b[0;34m\u001b[0m\u001b[0;34m\u001b[0m\u001b[0m\n\u001b[1;32m    488\u001b[0m \u001b[0;34m\u001b[0m\u001b[0m\n\u001b[0;32m--> 489\u001b[0;31m     \u001b[0;32mwith\u001b[0m \u001b[0mPopen\u001b[0m\u001b[0;34m(\u001b[0m\u001b[0;34m*\u001b[0m\u001b[0mpopenargs\u001b[0m\u001b[0;34m,\u001b[0m \u001b[0;34m**\u001b[0m\u001b[0mkwargs\u001b[0m\u001b[0;34m)\u001b[0m \u001b[0;32mas\u001b[0m \u001b[0mprocess\u001b[0m\u001b[0;34m:\u001b[0m\u001b[0;34m\u001b[0m\u001b[0;34m\u001b[0m\u001b[0m\n\u001b[0m\u001b[1;32m    490\u001b[0m         \u001b[0;32mtry\u001b[0m\u001b[0;34m:\u001b[0m\u001b[0;34m\u001b[0m\u001b[0;34m\u001b[0m\u001b[0m\n\u001b[1;32m    491\u001b[0m             \u001b[0mstdout\u001b[0m\u001b[0;34m,\u001b[0m \u001b[0mstderr\u001b[0m \u001b[0;34m=\u001b[0m \u001b[0mprocess\u001b[0m\u001b[0;34m.\u001b[0m\u001b[0mcommunicate\u001b[0m\u001b[0;34m(\u001b[0m\u001b[0minput\u001b[0m\u001b[0;34m,\u001b[0m \u001b[0mtimeout\u001b[0m\u001b[0;34m=\u001b[0m\u001b[0mtimeout\u001b[0m\u001b[0;34m)\u001b[0m\u001b[0;34m\u001b[0m\u001b[0;34m\u001b[0m\u001b[0m\n",
      "\u001b[0;32m/dls_sw/apps/python/anaconda/4.6.14/64/envs/python3.8/lib/python3.8/subprocess.py\u001b[0m in \u001b[0;36m__init__\u001b[0;34m(self, args, bufsize, executable, stdin, stdout, stderr, preexec_fn, close_fds, shell, cwd, env, universal_newlines, startupinfo, creationflags, restore_signals, start_new_session, pass_fds, encoding, errors, text)\u001b[0m\n\u001b[1;32m    852\u001b[0m                             encoding=encoding, errors=errors)\n\u001b[1;32m    853\u001b[0m \u001b[0;34m\u001b[0m\u001b[0m\n\u001b[0;32m--> 854\u001b[0;31m             self._execute_child(args, executable, preexec_fn, close_fds,\n\u001b[0m\u001b[1;32m    855\u001b[0m                                 \u001b[0mpass_fds\u001b[0m\u001b[0;34m,\u001b[0m \u001b[0mcwd\u001b[0m\u001b[0;34m,\u001b[0m \u001b[0menv\u001b[0m\u001b[0;34m,\u001b[0m\u001b[0;34m\u001b[0m\u001b[0;34m\u001b[0m\u001b[0m\n\u001b[1;32m    856\u001b[0m                                 \u001b[0mstartupinfo\u001b[0m\u001b[0;34m,\u001b[0m \u001b[0mcreationflags\u001b[0m\u001b[0;34m,\u001b[0m \u001b[0mshell\u001b[0m\u001b[0;34m,\u001b[0m\u001b[0;34m\u001b[0m\u001b[0;34m\u001b[0m\u001b[0m\n",
      "\u001b[0;32m/dls_sw/apps/python/anaconda/4.6.14/64/envs/python3.8/lib/python3.8/subprocess.py\u001b[0m in \u001b[0;36m_execute_child\u001b[0;34m(self, args, executable, preexec_fn, close_fds, pass_fds, cwd, env, startupinfo, creationflags, shell, p2cread, p2cwrite, c2pread, c2pwrite, errread, errwrite, restore_signals, start_new_session)\u001b[0m\n\u001b[1;32m   1700\u001b[0m                     \u001b[0;32mif\u001b[0m \u001b[0merrno_num\u001b[0m \u001b[0;34m!=\u001b[0m \u001b[0;36m0\u001b[0m\u001b[0;34m:\u001b[0m\u001b[0;34m\u001b[0m\u001b[0;34m\u001b[0m\u001b[0m\n\u001b[1;32m   1701\u001b[0m                         \u001b[0merr_msg\u001b[0m \u001b[0;34m=\u001b[0m \u001b[0mos\u001b[0m\u001b[0;34m.\u001b[0m\u001b[0mstrerror\u001b[0m\u001b[0;34m(\u001b[0m\u001b[0merrno_num\u001b[0m\u001b[0;34m)\u001b[0m\u001b[0;34m\u001b[0m\u001b[0;34m\u001b[0m\u001b[0m\n\u001b[0;32m-> 1702\u001b[0;31m                     \u001b[0;32mraise\u001b[0m \u001b[0mchild_exception_type\u001b[0m\u001b[0;34m(\u001b[0m\u001b[0merrno_num\u001b[0m\u001b[0;34m,\u001b[0m \u001b[0merr_msg\u001b[0m\u001b[0;34m,\u001b[0m \u001b[0merr_filename\u001b[0m\u001b[0;34m)\u001b[0m\u001b[0;34m\u001b[0m\u001b[0;34m\u001b[0m\u001b[0m\n\u001b[0m\u001b[1;32m   1703\u001b[0m                 \u001b[0;32mraise\u001b[0m \u001b[0mchild_exception_type\u001b[0m\u001b[0;34m(\u001b[0m\u001b[0merr_msg\u001b[0m\u001b[0;34m)\u001b[0m\u001b[0;34m\u001b[0m\u001b[0;34m\u001b[0m\u001b[0m\n\u001b[1;32m   1704\u001b[0m \u001b[0;34m\u001b[0m\u001b[0m\n",
      "\u001b[0;31mFileNotFoundError\u001b[0m: [Errno 2] No such file or directory: 'java'"
     ]
    }
   ],
   "source": [
    "sync_reasoner()"
   ]
  },
  {
   "cell_type": "code",
   "execution_count": null,
   "metadata": {},
   "outputs": [],
   "source": []
  },
  {
   "cell_type": "code",
   "execution_count": null,
   "metadata": {},
   "outputs": [],
   "source": []
  },
  {
   "cell_type": "code",
   "execution_count": null,
   "metadata": {},
   "outputs": [],
   "source": []
  },
  {
   "cell_type": "code",
   "execution_count": 4,
   "metadata": {},
   "outputs": [
    {
     "name": "stdout",
     "output_type": "stream",
     "text": [
      "NeXus_onto1.NeXus \t ['NeXus concept']\n",
      "NeXus_onto1.NXobject \t ['NXobject']\n",
      "NeXus_onto1.NeXusBaseClass \t ['NeXusBaseClass']\n",
      "NeXus_onto1.NeXusDefinition \t ['NeXus Application Definition']\n",
      "NeXus_onto1.NeXusField \t ['NeXus field']\n"
     ]
    }
   ],
   "source": [
    "## Classes (generic)\n",
    "\n",
    "class NeXus(Thing):\n",
    "    namespace = onto\n",
    "    comment = 'NeXus concept'\n",
    "    \n",
    "class NeXusField(NeXus):\n",
    "    namespace = onto\n",
    "    comment = 'NeXus field'\n",
    "\n",
    "class NXobject(NeXus):\n",
    "    namespace = onto\n",
    "    comment = 'NXobject'\n",
    "    \n",
    "class NeXusBaseClass(NXobject):\n",
    "    namespace = onto\n",
    "    comment = 'NeXusBaseClass'\n",
    "    \n",
    "class NeXusDefinition(NXobject):\n",
    "    namespace = onto\n",
    "    comment = 'NeXus Application Definition'\n",
    "\n",
    "## Relationships\n",
    "    \n",
    "    \n",
    "onto.save()\n",
    "\n",
    "for cls in onto.classes():\n",
    "    print(cls, '\\t', cls.comment)\n",
    "\n",
    "#NeXusBaseClass.is_a\n",
    "\n"
   ]
  },
  {
   "cell_type": "code",
   "execution_count": 15,
   "metadata": {},
   "outputs": [
    {
     "ename": "TypeError",
     "evalue": "is_functional_for() missing 1 required positional argument: 'Class'",
     "output_type": "error",
     "traceback": [
      "\u001b[0;31m---------------------------------------------------------------------------\u001b[0m",
      "\u001b[0;31mTypeError\u001b[0m                                 Traceback (most recent call last)",
      "\u001b[0;32m<ipython-input-15-96c990491d04>\u001b[0m in \u001b[0;36m<module>\u001b[0;34m\u001b[0m\n\u001b[0;32m----> 1\u001b[0;31m \u001b[0mprop\u001b[0m\u001b[0;34m.\u001b[0m\u001b[0mis_functional_for\u001b[0m\u001b[0;34m(\u001b[0m\u001b[0;34m)\u001b[0m\u001b[0;34m\u001b[0m\u001b[0;34m\u001b[0m\u001b[0m\n\u001b[0m",
      "\u001b[0;31mTypeError\u001b[0m: is_functional_for() missing 1 required positional argument: 'Class'"
     ]
    }
   ],
   "source": [
    "prop.is_functional_for()\n"
   ]
  },
  {
   "cell_type": "code",
   "execution_count": 4,
   "metadata": {},
   "outputs": [
    {
     "data": {
      "text/plain": [
       "['NXobject']"
      ]
     },
     "execution_count": 4,
     "metadata": {},
     "output_type": "execute_result"
    }
   ],
   "source": [
    "NXobject.comment"
   ]
  },
  {
   "cell_type": "code",
   "execution_count": 8,
   "metadata": {},
   "outputs": [
    {
     "data": {
      "text/plain": [
       "owlready2.entity.ThingClass"
      ]
     },
     "execution_count": 8,
     "metadata": {},
     "output_type": "execute_result"
    }
   ],
   "source": [
    "type(NXobject)"
   ]
  },
  {
   "cell_type": "code",
   "execution_count": 9,
   "metadata": {},
   "outputs": [
    {
     "data": {
      "text/plain": [
       "[owl.Thing]"
      ]
     },
     "execution_count": 9,
     "metadata": {},
     "output_type": "execute_result"
    }
   ],
   "source": [
    "NXobject.is_a"
   ]
  },
  {
   "cell_type": "code",
   "execution_count": null,
   "metadata": {},
   "outputs": [],
   "source": []
  },
  {
   "cell_type": "code",
   "execution_count": 7,
   "metadata": {},
   "outputs": [
    {
     "ename": "TypeError",
     "evalue": "__new__() got an unexpected keyword argument 'namespace'",
     "output_type": "error",
     "traceback": [
      "\u001b[0;31m---------------------------------------------------------------------------\u001b[0m",
      "\u001b[0;31mTypeError\u001b[0m                                 Traceback (most recent call last)",
      "\u001b[0;32m<ipython-input-7-e67b7c829561>\u001b[0m in \u001b[0;36m<module>\u001b[0;34m\u001b[0m\n\u001b[0;32m----> 1\u001b[0;31m \u001b[0mNXobject\u001b[0m \u001b[0;34m=\u001b[0m \u001b[0mtypes\u001b[0m\u001b[0;34m.\u001b[0m\u001b[0mnew_class\u001b[0m\u001b[0;34m(\u001b[0m\u001b[0;34m'NXobject'\u001b[0m\u001b[0;34m,\u001b[0m\u001b[0;34m(\u001b[0m\u001b[0mThing\u001b[0m\u001b[0;34m,\u001b[0m\u001b[0;34m)\u001b[0m\u001b[0;34m,\u001b[0m \u001b[0mkwds\u001b[0m \u001b[0;34m=\u001b[0m \u001b[0;34m{\u001b[0m\u001b[0;34m'namespace'\u001b[0m \u001b[0;34m:\u001b[0m \u001b[0monto\u001b[0m\u001b[0;34m}\u001b[0m\u001b[0;34m)\u001b[0m\u001b[0;34m\u001b[0m\u001b[0;34m\u001b[0m\u001b[0m\n\u001b[0m\u001b[1;32m      2\u001b[0m \u001b[0;31m#a = types.new_class('xxx', (Thing,))\u001b[0m\u001b[0;34m\u001b[0m\u001b[0;34m\u001b[0m\u001b[0;34m\u001b[0m\u001b[0m\n",
      "\u001b[0;32m/dls_sw/apps/python/anaconda/4.6.14/64/envs/python3.8/lib/python3.8/types.py\u001b[0m in \u001b[0;36mnew_class\u001b[0;34m(name, bases, kwds, exec_body)\u001b[0m\n\u001b[1;32m     75\u001b[0m     \u001b[0;32mif\u001b[0m \u001b[0mresolved_bases\u001b[0m \u001b[0;32mis\u001b[0m \u001b[0;32mnot\u001b[0m \u001b[0mbases\u001b[0m\u001b[0;34m:\u001b[0m\u001b[0;34m\u001b[0m\u001b[0;34m\u001b[0m\u001b[0m\n\u001b[1;32m     76\u001b[0m         \u001b[0mns\u001b[0m\u001b[0;34m[\u001b[0m\u001b[0;34m'__orig_bases__'\u001b[0m\u001b[0;34m]\u001b[0m \u001b[0;34m=\u001b[0m \u001b[0mbases\u001b[0m\u001b[0;34m\u001b[0m\u001b[0;34m\u001b[0m\u001b[0m\n\u001b[0;32m---> 77\u001b[0;31m     \u001b[0;32mreturn\u001b[0m \u001b[0mmeta\u001b[0m\u001b[0;34m(\u001b[0m\u001b[0mname\u001b[0m\u001b[0;34m,\u001b[0m \u001b[0mresolved_bases\u001b[0m\u001b[0;34m,\u001b[0m \u001b[0mns\u001b[0m\u001b[0;34m,\u001b[0m \u001b[0;34m**\u001b[0m\u001b[0mkwds\u001b[0m\u001b[0;34m)\u001b[0m\u001b[0;34m\u001b[0m\u001b[0;34m\u001b[0m\u001b[0m\n\u001b[0m\u001b[1;32m     78\u001b[0m \u001b[0;34m\u001b[0m\u001b[0m\n\u001b[1;32m     79\u001b[0m \u001b[0;32mdef\u001b[0m \u001b[0mresolve_bases\u001b[0m\u001b[0;34m(\u001b[0m\u001b[0mbases\u001b[0m\u001b[0;34m)\u001b[0m\u001b[0;34m:\u001b[0m\u001b[0;34m\u001b[0m\u001b[0;34m\u001b[0m\u001b[0m\n",
      "\u001b[0;31mTypeError\u001b[0m: __new__() got an unexpected keyword argument 'namespace'"
     ]
    }
   ],
   "source": [
    "#NXobject = types.new_class('NXobject',(Thing,), kwds = {'namespace' : onto})\n",
    "#a = types.new_class('xxx', (Thing,))"
   ]
  },
  {
   "cell_type": "code",
   "execution_count": 3,
   "metadata": {},
   "outputs": [
    {
     "data": {
      "text/plain": [
       "[owl.Thing]"
      ]
     },
     "execution_count": 3,
     "metadata": {},
     "output_type": "execute_result"
    }
   ],
   "source": [
    "NXobject.is_a"
   ]
  },
  {
   "cell_type": "code",
   "execution_count": 6,
   "metadata": {},
   "outputs": [
    {
     "ename": "AttributeError",
     "evalue": "'NoneType' object has no attribute 'is_a'",
     "output_type": "error",
     "traceback": [
      "\u001b[0;31m---------------------------------------------------------------------------\u001b[0m",
      "\u001b[0;31mAttributeError\u001b[0m                            Traceback (most recent call last)",
      "\u001b[0;32m<ipython-input-6-2043387c797a>\u001b[0m in \u001b[0;36m<module>\u001b[0;34m\u001b[0m\n\u001b[0;32m----> 1\u001b[0;31m \u001b[0monto\u001b[0m\u001b[0;34m[\u001b[0m\u001b[0;34m'NXobject'\u001b[0m\u001b[0;34m]\u001b[0m\u001b[0;34m.\u001b[0m\u001b[0mis_a\u001b[0m\u001b[0;34m\u001b[0m\u001b[0;34m\u001b[0m\u001b[0m\n\u001b[0m",
      "\u001b[0;31mAttributeError\u001b[0m: 'NoneType' object has no attribute 'is_a'"
     ]
    }
   ],
   "source": [
    "onto['NXobject'].is_a"
   ]
  },
  {
   "cell_type": "code",
   "execution_count": 5,
   "metadata": {},
   "outputs": [],
   "source": [
    "onto.save()"
   ]
  },
  {
   "cell_type": "code",
   "execution_count": null,
   "metadata": {},
   "outputs": [],
   "source": []
  },
  {
   "cell_type": "code",
   "execution_count": 16,
   "metadata": {},
   "outputs": [
    {
     "name": "stderr",
     "output_type": "stream",
     "text": [
      "* Owlready2 * WARNING: DataProperty http://www.semanticweb.org/spc93/ontologies/2020/3/untitled-ontology-16#hasNXDLsource belongs to more than one entity types: [owl.ObjectProperty, owl.DatatypeProperty]; I'm trying to fix it...\n"
     ]
    },
    {
     "data": {
      "text/plain": [
       "get_ontology(\"http://www.semanticweb.org/spc93/ontologies/2020/3/untitled-ontology-16#\")"
      ]
     },
     "execution_count": 16,
     "metadata": {},
     "output_type": "execute_result"
    }
   ],
   "source": [
    "#from owlready2 documentation page\n",
    "#from owlready2 import *\n",
    "#onto_path.append(\"/path/to/your/local/ontology/repository\")\n",
    "#onto = get_ontology(\"http://www.lesfleursdunormal.fr/static/_downloads/pizza_onto.owl\")\n",
    "#onto.load()\n",
    "\n",
    "from owlready2 import *\n",
    "onto_path.append(\"/dls/science/users/spc93/ontology\")\n",
    "\n",
    "onto = get_ontology(\"nexus_ontology_owlready_tmp.owl\")\n",
    "onto.load()\n",
    "\n",
    "\n"
   ]
  },
  {
   "cell_type": "code",
   "execution_count": null,
   "metadata": {},
   "outputs": [],
   "source": []
  },
  {
   "cell_type": "code",
   "execution_count": 13,
   "metadata": {},
   "outputs": [],
   "source": [
    "#add a class under Thing\n",
    "class my_class(Thing):\n",
    "    namespace = onto"
   ]
  },
  {
   "cell_type": "code",
   "execution_count": 15,
   "metadata": {},
   "outputs": [
    {
     "data": {
      "text/plain": [
       "[owl.Thing]"
      ]
     },
     "execution_count": 15,
     "metadata": {},
     "output_type": "execute_result"
    }
   ],
   "source": [
    "onto['my_class'].is_a"
   ]
  },
  {
   "cell_type": "code",
   "execution_count": 16,
   "metadata": {},
   "outputs": [],
   "source": [
    "a = types.new_class('xxx', (onto.my_class,))"
   ]
  },
  {
   "cell_type": "code",
   "execution_count": 22,
   "metadata": {},
   "outputs": [],
   "source": [
    "a = types.new_class('xxx', (Thing,))"
   ]
  },
  {
   "cell_type": "code",
   "execution_count": 23,
   "metadata": {},
   "outputs": [
    {
     "data": {
      "text/plain": [
       "[owl.Thing]"
      ]
     },
     "execution_count": 23,
     "metadata": {},
     "output_type": "execute_result"
    }
   ],
   "source": [
    "a.is_a"
   ]
  },
  {
   "cell_type": "code",
   "execution_count": 17,
   "metadata": {},
   "outputs": [
    {
     "data": {
      "text/plain": [
       "[NeXus_onto1.my_class]"
      ]
     },
     "execution_count": 17,
     "metadata": {},
     "output_type": "execute_result"
    }
   ],
   "source": [
    "a.is_a"
   ]
  },
  {
   "cell_type": "code",
   "execution_count": 17,
   "metadata": {},
   "outputs": [
    {
     "name": "stdout",
     "output_type": "stream",
     "text": [
      "nexus_ontology_owlready_tmp.NXobject\n",
      "nexus_ontology_owlready_tmp.NeXusBaseClass\n",
      "nexus_ontology_owlready_tmp.MetaDataConcept\n",
      "nexus_ontology_owlready_tmp.OntologicalConcept\n",
      "nexus_ontology_owlready_tmp.NeXusField\n",
      "nexus_ontology_owlready_tmp.NeXusUnitCategory\n",
      "nexus_ontology_owlready_tmp.Catalogue1Term\n",
      "nexus_ontology_owlready_tmp.PaNmetaDataConcept\n",
      "nexus_ontology_owlready_tmp.Catalogue1Term_sample_temperature\n",
      "nexus_ontology_owlready_tmp.NXsample_temperature\n",
      "nexus_ontology_owlready_tmp.Catalogue2Term\n",
      "nexus_ontology_owlready_tmp.ElectricField\n",
      "nexus_ontology_owlready_tmp.ThermodynamicConcept\n",
      "nexus_ontology_owlready_tmp.ExperimentalSampleSpecimen\n",
      "nexus_ontology_owlready_tmp.Geometry\n",
      "nexus_ontology_owlready_tmp.J\n",
      "nexus_ontology_owlready_tmp.NX_ENERGY\n",
      "nexus_ontology_owlready_tmp.MagneticField\n",
      "nexus_ontology_owlready_tmp.Measure\n",
      "nexus_ontology_owlready_tmp.NX_LENGTH\n",
      "nexus_ontology_owlready_tmp.NX_TEMPERATURE\n",
      "nexus_ontology_owlready_tmp.NXaperture\n",
      "nexus_ontology_owlready_tmp.NXgeometry\n",
      "nexus_ontology_owlready_tmp.NXnote\n",
      "nexus_ontology_owlready_tmp.NXattenuator\n",
      "nexus_ontology_owlready_tmp.NXbaseClassInDefinition\n",
      "nexus_ontology_owlready_tmp.NXbeam\n",
      "nexus_ontology_owlready_tmp.NXbeamInNXmx\n",
      "nexus_ontology_owlready_tmp.NXmx\n",
      "nexus_ontology_owlready_tmp.NeXusDefinition\n",
      "nexus_ontology_owlready_tmp.NeXusConcept\n",
      "nexus_ontology_owlready_tmp.NXsample\n",
      "nexus_ontology_owlready_tmp.NXsample_chemical_formula\n",
      "nexus_ontology_owlready_tmp.Temperature\n",
      "nexus_ontology_owlready_tmp.Pressure\n",
      "nexus_ontology_owlready_tmp.TemperatureMeasure\n",
      "nexus_ontology_owlready_tmp.keV\n"
     ]
    }
   ],
   "source": [
    "for cls in onto.classes():\n",
    "    print(cls)"
   ]
  },
  {
   "cell_type": "code",
   "execution_count": 18,
   "metadata": {},
   "outputs": [],
   "source": [
    "#add a class under Thing\n",
    "class my_class(Thing):\n",
    "    namespace = onto"
   ]
  },
  {
   "cell_type": "code",
   "execution_count": 28,
   "metadata": {},
   "outputs": [],
   "source": [
    "#add a class under NeXusBaseClass\n",
    "class my_baseclass_1(onto.NeXusBaseClass):\n",
    "    namespace = onto"
   ]
  },
  {
   "cell_type": "code",
   "execution_count": 27,
   "metadata": {},
   "outputs": [
    {
     "data": {
      "text/plain": [
       "[nexus_ontology_owlready_tmp.NXobject,\n",
       " nexus_ontology_owlready_tmp.citesGroup.some(nexus_ontology_owlready_tmp.NeXusBaseClass)]"
      ]
     },
     "execution_count": 27,
     "metadata": {},
     "output_type": "execute_result"
    }
   ],
   "source": [
    "#onto.NXobject\n",
    "onto.NeXusBaseClass.is_a"
   ]
  },
  {
   "cell_type": "code",
   "execution_count": 41,
   "metadata": {},
   "outputs": [],
   "source": [
    "baseclass_list = ['myclass1', 'myclass2', 'myclass3', 'myclass4', 'myclass5', 'myclass6']\n",
    "#    classdict[bclass] = types.new_class(bclass, (onto.NeXusBaseClass,), kwds = {\"namespace\" : onto})\n",
    "#    classdict[bclass] = types.new_class(bclass, (onto.NeXusBaseClass,), kwds = {\"comment\" : 'my comment'}) # removed namespace - what does that do?\n",
    "\n",
    "classdict = {}\n",
    "for bclass in baseclass_list:\n",
    "    classdict[bclass] = types.new_class(bclass, (onto.NeXusBaseClass,))\n",
    "    classdict[bclass].comment = 'Comment for ' + bclass\n",
    "\n",
    "#onto.save()"
   ]
  },
  {
   "cell_type": "code",
   "execution_count": 46,
   "metadata": {},
   "outputs": [],
   "source": [
    "onto.save()"
   ]
  },
  {
   "cell_type": "code",
   "execution_count": 42,
   "metadata": {},
   "outputs": [
    {
     "name": "stdout",
     "output_type": "stream",
     "text": [
      "nexus_ontology_owlready_tmp.NXobject\n",
      "nexus_ontology_owlready_tmp.NeXusBaseClass\n",
      "nexus_ontology_owlready_tmp.MetaDataConcept\n",
      "nexus_ontology_owlready_tmp.OntologicalConcept\n",
      "nexus_ontology_owlready_tmp.NeXusField\n",
      "nexus_ontology_owlready_tmp.NeXusUnitCategory\n",
      "nexus_ontology_owlready_tmp.Catalogue1Term\n",
      "nexus_ontology_owlready_tmp.PaNmetaDataConcept\n",
      "nexus_ontology_owlready_tmp.Catalogue1Term_sample_temperature\n",
      "nexus_ontology_owlready_tmp.NXsample_temperature\n",
      "nexus_ontology_owlready_tmp.Catalogue2Term\n",
      "nexus_ontology_owlready_tmp.ElectricField\n",
      "nexus_ontology_owlready_tmp.ThermodynamicConcept\n",
      "nexus_ontology_owlready_tmp.ExperimentalSampleSpecimen\n",
      "nexus_ontology_owlready_tmp.Geometry\n",
      "nexus_ontology_owlready_tmp.J\n",
      "nexus_ontology_owlready_tmp.NX_ENERGY\n",
      "nexus_ontology_owlready_tmp.MagneticField\n",
      "nexus_ontology_owlready_tmp.Measure\n",
      "nexus_ontology_owlready_tmp.NX_LENGTH\n",
      "nexus_ontology_owlready_tmp.NX_TEMPERATURE\n",
      "nexus_ontology_owlready_tmp.NXaperture\n",
      "nexus_ontology_owlready_tmp.NXgeometry\n",
      "nexus_ontology_owlready_tmp.NXnote\n",
      "nexus_ontology_owlready_tmp.NXattenuator\n",
      "nexus_ontology_owlready_tmp.NXbaseClassInDefinition\n",
      "nexus_ontology_owlready_tmp.NXbeam\n",
      "nexus_ontology_owlready_tmp.NXbeamInNXmx\n",
      "nexus_ontology_owlready_tmp.NXmx\n",
      "nexus_ontology_owlready_tmp.NeXusDefinition\n",
      "nexus_ontology_owlready_tmp.NeXusConcept\n",
      "nexus_ontology_owlready_tmp.NXsample\n",
      "nexus_ontology_owlready_tmp.NXsample_chemical_formula\n",
      "nexus_ontology_owlready_tmp.Temperature\n",
      "nexus_ontology_owlready_tmp.Pressure\n",
      "nexus_ontology_owlready_tmp.TemperatureMeasure\n",
      "nexus_ontology_owlready_tmp.keV\n",
      "nexus_ontology_owlready_tmp.my_class\n",
      "nexus_ontology_owlready_tmp.my_baseclass_1\n",
      "nexus_ontology_owlready_tmp.myclass1\n",
      "nexus_ontology_owlready_tmp.myclass2\n",
      "nexus_ontology_owlready_tmp.myclass3\n",
      "nexus_ontology_owlready_tmp.myclass4\n",
      "nexus_ontology_owlready_tmp.myclass5\n",
      "nexus_ontology_owlready_tmp.myclass6\n"
     ]
    }
   ],
   "source": [
    "for cls in onto.classes():\n",
    "    print(cls)"
   ]
  },
  {
   "cell_type": "code",
   "execution_count": 45,
   "metadata": {},
   "outputs": [
    {
     "data": {
      "text/plain": [
       "['Comment for myclass6']"
      ]
     },
     "execution_count": 45,
     "metadata": {},
     "output_type": "execute_result"
    }
   ],
   "source": [
    "onto.myclass6.comment"
   ]
  },
  {
   "cell_type": "code",
   "execution_count": null,
   "metadata": {},
   "outputs": [],
   "source": []
  }
 ],
 "metadata": {
  "kernelspec": {
   "display_name": "Python 3.8 [Conda DLS]",
   "language": "python",
   "name": "conda-env-Conda_DLS-python3.8"
  },
  "language_info": {
   "codemirror_mode": {
    "name": "ipython",
    "version": 3
   },
   "file_extension": ".py",
   "mimetype": "text/x-python",
   "name": "python",
   "nbconvert_exporter": "python",
   "pygments_lexer": "ipython3",
   "version": "3.8.0"
  }
 },
 "nbformat": 4,
 "nbformat_minor": 2
}
