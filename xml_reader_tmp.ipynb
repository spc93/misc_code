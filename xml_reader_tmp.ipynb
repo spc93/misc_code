{
 "cells": [
  {
   "cell_type": "markdown",
   "metadata": {},
   "source": [
    "## look at a base class\n",
    "## print base class\n",
    "## print all fields"
   ]
  },
  {
   "cell_type": "code",
   "execution_count": 129,
   "metadata": {},
   "outputs": [],
   "source": [
    "import xml.dom.minidom\n",
    "import pandas as pd\n",
    "import os\n",
    "pd.set_option('display.max_rows',999)\n",
    "pd.set_option('display.max_columns', 500)\n",
    "pd.set_option('display.width',999)"
   ]
  },
  {
   "cell_type": "code",
   "execution_count": 53,
   "metadata": {},
   "outputs": [],
   "source": [
    "file = '/dls/science/users/spc93/misc_nexus_data/nexus_classes/definitions/NXsas.nxdl.xml'\n",
    "#file = '/dls/science/users/spc93/misc_nexus_data/nexus_classes/baseclasses/NXbeam.nxdl.xml'\n",
    "#file = '/dls/science/users/spc93/misc_nexus_data/nexus_classes/baseclasses/NXinstrument.nxdl.xml' #none!\n",
    "#file = '/dls/science/users/spc93/misc_nexus_data/nexus_classes/baseclasses/NXmirror.nxdl.xml'\n",
    "#file = '/dls/science/users/spc93/misc_nexus_data/nexus_classes/baseclasses/NXdetector.nxdl.xml'\n",
    "\n",
    "dom1 = xml.dom.minidom.parse(file)  "
   ]
  },
  {
   "cell_type": "code",
   "execution_count": 54,
   "metadata": {
    "scrolled": true
   },
   "outputs": [
    {
     "name": "stdout",
     "output_type": "stream",
     "text": [
      "parent_name \t parent_type \t name\n",
      "\n",
      " \t NXentry \t title\n",
      " \t NXentry \t start_time\n",
      " \t NXentry \t end_time\n",
      " \t NXentry \t definition\n",
      "source \t NXsource \t type\n",
      "source \t NXsource \t name\n",
      "source \t NXsource \t probe\n",
      "monochromator \t NXmonochromator \t wavelength\n",
      "monochromator \t NXmonochromator \t wavelength_spread\n",
      "shape \t NXshape \t shape\n",
      "shape \t NXshape \t size\n",
      "detector \t NXdetector \t data\n",
      "detector \t NXdetector \t distance\n",
      "detector \t NXdetector \t x_pixel_size\n",
      "detector \t NXdetector \t y_pixel_size\n",
      "detector \t NXdetector \t polar_angle\n",
      "detector \t NXdetector \t azimuthal_angle\n",
      "detector \t NXdetector \t rotation_angle\n",
      "detector \t NXdetector \t aequatorial_angle\n",
      "detector \t NXdetector \t beam_center_x\n",
      "detector \t NXdetector \t beam_center_y\n",
      "instrument \t NXinstrument \t name\n",
      "sample \t NXsample \t name\n",
      "sample \t NXsample \t aequatorial_angle\n",
      "control \t NXmonitor \t mode\n",
      "control \t NXmonitor \t preset\n",
      "control \t NXmonitor \t integral\n"
     ]
    }
   ],
   "source": [
    "# search for 'field' elements as second part of name\n",
    "# first part of name is the parent type (if NX...) or parent name (if NX...)\n",
    "# ignore of parent type is NXentry as these fields are not formally defined\n",
    "\n",
    "print('parent_name', '\\t', 'parent_type', '\\t', 'name'); print()\n",
    "for field in dom1.getElementsByTagName('field'):\n",
    "    name = field.getAttribute('name')\n",
    "    parent = field.parentNode\n",
    "    parent_name = parent.getAttribute('name')\n",
    "    parent_type = parent.getAttribute('type')\n",
    "    # need parent type    \n",
    "    print(parent_name, '\\t', parent_type, '\\t', name)"
   ]
  },
  {
   "cell_type": "code",
   "execution_count": 82,
   "metadata": {
    "scrolled": true
   },
   "outputs": [
    {
     "name": "stdout",
     "output_type": "stream",
     "text": [
      "parent_name \t parent_type \t name\n",
      "\n",
      "source \t NXsource \t type \t NXsource:type \t type of radiation source\n",
      "source \t NXsource \t name \t NXsource:name \t Name of the radiation source\n",
      "source \t NXsource \t probe \t NXsource:probe \t \n",
      "monochromator \t NXmonochromator \t wavelength \t NXmonochromator:wavelength \t The wavelength of the radiation\n",
      "monochromator \t NXmonochromator \t wavelength_spread \t NXmonochromator:wavelength_spread \t \n",
      "\t          delta_lambda/lambda (:math:`\\Delta\\lambda/\\lambda`):\n",
      "\t          Important for resolution calculations\n",
      "          \n",
      "shape \t NXshape \t shape \t NXshape:shape \t \n",
      "shape \t NXshape \t size \t NXshape:size \t The collimation length\n",
      "detector \t NXdetector \t data \t NXdetector:data \t \n",
      "            This is area detector data, of number of x-pixel versus\n",
      "            number of y-pixels. Since the beam center is to be\n",
      "            determined as a step of data reduction, it is not necessary\n",
      "            to document or assume the position of the beam center in\n",
      "            acquired data.\n",
      "          \n",
      "detector \t NXdetector \t distance \t NXdetector:distance \t The distance between detector and sample\n",
      "detector \t NXdetector \t x_pixel_size \t NXdetector:x_pixel_size \t Physical size of a pixel in x-direction\n",
      "detector \t NXdetector \t y_pixel_size \t NXdetector:y_pixel_size \t Size of a pixel in y direction\n",
      "detector \t NXdetector \t polar_angle \t NXdetector:polar_angle \t \n",
      "detector \t NXdetector \t azimuthal_angle \t NXdetector:azimuthal_angle \t \n",
      "detector \t NXdetector \t rotation_angle \t NXdetector:rotation_angle \t \n",
      "detector \t NXdetector \t aequatorial_angle \t NXdetector:aequatorial_angle \t \n",
      "detector \t NXdetector \t beam_center_x \t NXdetector:beam_center_x \t \n",
      "\t\t\t\tThis is the x position where the direct beam would hit the detector. This is a\n",
      "\t\t\t\tlength, not a pixel position, and can be outside of the actual detector.\n",
      "\t\t\t\n",
      "detector \t NXdetector \t beam_center_y \t NXdetector:beam_center_y \t \n",
      "\t\t\t\tThis is the y position where the direct beam would hit the detector. This is a\n",
      "\t\t\t\tlength, not a pixel position, and can be outside of the actual detector.\n",
      "\t\t\t\n",
      "instrument \t NXinstrument \t name \t NXinstrument:name \t Name of the instrument actually used to perform the experiment\n",
      "sample \t NXsample \t name \t NXsample:name \t Descriptive name of sample\n",
      "sample \t NXsample \t aequatorial_angle \t NXsample:aequatorial_angle \t \n",
      "control \t NXmonitor \t mode \t NXmonitor:mode \t \n",
      "\t\t\tCount to a preset value based on either clock time \n",
      "\t\t\t(timer) or received monitor counts (monitor). \n",
      "        \n",
      "control \t NXmonitor \t preset \t NXmonitor:preset \t preset value for time or monitor\n",
      "control \t NXmonitor \t integral \t NXmonitor:integral \t Total integral monitor counts\n"
     ]
    }
   ],
   "source": [
    "# search for 'field' elements as second part of name\n",
    "# first part of name is the parent type (if NX...) or parent name (if NX...)\n",
    "# ignore of parent type is NXentry as these fields are not formally defined\n",
    "\n",
    "print('parent_name', '\\t', 'parent_type', '\\t', 'name'); print()\n",
    "for field in dom1.getElementsByTagName('field'):\n",
    "    name = field.getAttribute('name')\n",
    "    parent = field.parentNode\n",
    "    parent_name = parent.getAttribute('name')\n",
    "    parent_type = parent.getAttribute('type')\n",
    "    if not parent_type == 'NXentry': # skip fields in top level of definition as they are not defined by nexus classes\n",
    "        if parent_type[0:2] == 'NX':\n",
    "            class_name = parent_type\n",
    "        elif parent_name[0:2] == 'NX':\n",
    "            class_name = parent_name\n",
    "        else:\n",
    "            print(\"=== Can't find a class name!\")\n",
    "            break\n",
    "        long_name = '%s:%s' % (class_name, name)\n",
    "\n",
    "        doc = field.getElementsByTagName('doc')\n",
    "        if len(doc) > 0:\n",
    "            doc_string = doc[0].firstChild.nodeValue\n",
    "        else:\n",
    "            doc_string = ''\n",
    "        \n",
    "        print(parent_name, '\\t', parent_type, '\\t', name, '\\t', long_name, '\\t', doc_string)\n",
    "        "
   ]
  },
  {
   "cell_type": "code",
   "execution_count": 224,
   "metadata": {},
   "outputs": [
    {
     "name": "stdout",
     "output_type": "stream",
     "text": [
      "/dls/science/users/spc93/misc_nexus_data/nexus_classes/baseclasses/NXaperture.nxdl.xml\n",
      "/dls/science/users/spc93/misc_nexus_data/nexus_classes/baseclasses/NXattenuator.nxdl.xml\n",
      "/dls/science/users/spc93/misc_nexus_data/nexus_classes/baseclasses/NXbeam.nxdl.xml\n",
      "/dls/science/users/spc93/misc_nexus_data/nexus_classes/baseclasses/NXbeam_stop.nxdl.xml\n",
      "/dls/science/users/spc93/misc_nexus_data/nexus_classes/baseclasses/NXbending_magnet.nxdl.xml\n",
      "/dls/science/users/spc93/misc_nexus_data/nexus_classes/baseclasses/NXcapillary.nxdl.xml\n",
      "/dls/science/users/spc93/misc_nexus_data/nexus_classes/baseclasses/NXcite.nxdl.xml\n",
      "/dls/science/users/spc93/misc_nexus_data/nexus_classes/baseclasses/NXcollection.nxdl.xml\n",
      "/dls/science/users/spc93/misc_nexus_data/nexus_classes/baseclasses/NXcollimator.nxdl.xml\n",
      "/dls/science/users/spc93/misc_nexus_data/nexus_classes/baseclasses/NXcrystal.nxdl.xml\n",
      "/dls/science/users/spc93/misc_nexus_data/nexus_classes/baseclasses/NXcylindrical_geometry.nxdl.xml\n",
      "/dls/science/users/spc93/misc_nexus_data/nexus_classes/baseclasses/NXdata.nxdl.xml\n",
      "/dls/science/users/spc93/misc_nexus_data/nexus_classes/baseclasses/NXdetector.nxdl.xml\n",
      "/dls/science/users/spc93/misc_nexus_data/nexus_classes/baseclasses/NXdetector_group.nxdl.xml\n",
      "/dls/science/users/spc93/misc_nexus_data/nexus_classes/baseclasses/NXdetector_module.nxdl.xml\n",
      "/dls/science/users/spc93/misc_nexus_data/nexus_classes/baseclasses/NXdisk_chopper.nxdl.xml\n",
      "/dls/science/users/spc93/misc_nexus_data/nexus_classes/baseclasses/NXentry.nxdl.xml\n",
      "/dls/science/users/spc93/misc_nexus_data/nexus_classes/baseclasses/NXenvironment.nxdl.xml\n",
      "/dls/science/users/spc93/misc_nexus_data/nexus_classes/baseclasses/NXevent_data.nxdl.xml\n",
      "/dls/science/users/spc93/misc_nexus_data/nexus_classes/baseclasses/NXfermi_chopper.nxdl.xml\n",
      "/dls/science/users/spc93/misc_nexus_data/nexus_classes/baseclasses/NXfilter.nxdl.xml\n",
      "/dls/science/users/spc93/misc_nexus_data/nexus_classes/baseclasses/NXflipper.nxdl.xml\n",
      "/dls/science/users/spc93/misc_nexus_data/nexus_classes/baseclasses/NXfresnel_zone_plate.nxdl.xml\n",
      "/dls/science/users/spc93/misc_nexus_data/nexus_classes/baseclasses/NXgeometry.nxdl.xml\n",
      "/dls/science/users/spc93/misc_nexus_data/nexus_classes/baseclasses/NXgrating.nxdl.xml\n",
      "/dls/science/users/spc93/misc_nexus_data/nexus_classes/baseclasses/NXguide.nxdl.xml\n",
      "/dls/science/users/spc93/misc_nexus_data/nexus_classes/baseclasses/NXinsertion_device.nxdl.xml\n",
      "/dls/science/users/spc93/misc_nexus_data/nexus_classes/baseclasses/NXinstrument.nxdl.xml\n",
      "/dls/science/users/spc93/misc_nexus_data/nexus_classes/baseclasses/NXlog.nxdl.xml\n",
      "/dls/science/users/spc93/misc_nexus_data/nexus_classes/baseclasses/NXmirror.nxdl.xml\n",
      "/dls/science/users/spc93/misc_nexus_data/nexus_classes/baseclasses/NXmoderator.nxdl.xml\n",
      "/dls/science/users/spc93/misc_nexus_data/nexus_classes/baseclasses/NXmonitor.nxdl.xml\n",
      "/dls/science/users/spc93/misc_nexus_data/nexus_classes/baseclasses/NXmonochromator.nxdl.xml\n",
      "/dls/science/users/spc93/misc_nexus_data/nexus_classes/baseclasses/NXnote.nxdl.xml\n",
      "/dls/science/users/spc93/misc_nexus_data/nexus_classes/baseclasses/NXobject.nxdl.xml\n",
      "/dls/science/users/spc93/misc_nexus_data/nexus_classes/baseclasses/NXoff_geometry.nxdl.xml\n",
      "/dls/science/users/spc93/misc_nexus_data/nexus_classes/baseclasses/NXorientation.nxdl.xml\n",
      "/dls/science/users/spc93/misc_nexus_data/nexus_classes/baseclasses/NXparameters.nxdl.xml\n",
      "/dls/science/users/spc93/misc_nexus_data/nexus_classes/baseclasses/NXpdb.nxdl.xml\n",
      "/dls/science/users/spc93/misc_nexus_data/nexus_classes/baseclasses/NXpinhole.nxdl.xml\n",
      "/dls/science/users/spc93/misc_nexus_data/nexus_classes/baseclasses/NXpolarizer.nxdl.xml\n",
      "/dls/science/users/spc93/misc_nexus_data/nexus_classes/baseclasses/NXpositioner.nxdl.xml\n",
      "/dls/science/users/spc93/misc_nexus_data/nexus_classes/baseclasses/NXprocess.nxdl.xml\n",
      "/dls/science/users/spc93/misc_nexus_data/nexus_classes/baseclasses/NXreflections.nxdl.xml\n",
      "/dls/science/users/spc93/misc_nexus_data/nexus_classes/baseclasses/NXroot.nxdl.xml\n",
      "/dls/science/users/spc93/misc_nexus_data/nexus_classes/baseclasses/NXsample.nxdl.xml\n",
      "/dls/science/users/spc93/misc_nexus_data/nexus_classes/baseclasses/NXsample_component.nxdl.xml\n",
      "/dls/science/users/spc93/misc_nexus_data/nexus_classes/baseclasses/NXsensor.nxdl.xml\n",
      "/dls/science/users/spc93/misc_nexus_data/nexus_classes/baseclasses/NXshape.nxdl.xml\n",
      "/dls/science/users/spc93/misc_nexus_data/nexus_classes/baseclasses/NXslit.nxdl.xml\n",
      "/dls/science/users/spc93/misc_nexus_data/nexus_classes/baseclasses/NXsource.nxdl.xml\n",
      "/dls/science/users/spc93/misc_nexus_data/nexus_classes/baseclasses/NXsubentry.nxdl.xml\n",
      "/dls/science/users/spc93/misc_nexus_data/nexus_classes/baseclasses/NXtransformations.nxdl.xml\n",
      "/dls/science/users/spc93/misc_nexus_data/nexus_classes/baseclasses/NXtranslation.nxdl.xml\n",
      "/dls/science/users/spc93/misc_nexus_data/nexus_classes/baseclasses/NXuser.nxdl.xml\n",
      "/dls/science/users/spc93/misc_nexus_data/nexus_classes/baseclasses/NXvelocity_selector.nxdl.xml\n",
      "/dls/science/users/spc93/misc_nexus_data/nexus_classes/baseclasses/NXxraylens.nxdl.xml\n",
      "/dls/science/users/spc93/misc_nexus_data/nexus_classes/definitions/NXarchive.nxdl.xml\n",
      "/dls/science/users/spc93/misc_nexus_data/nexus_classes/definitions/NXarpes.nxdl.xml\n",
      "/dls/science/users/spc93/misc_nexus_data/nexus_classes/definitions/NXcanSAS.nxdl.xml\n",
      "/dls/science/users/spc93/misc_nexus_data/nexus_classes/definitions/NXdirecttof.nxdl.xml\n",
      "/dls/science/users/spc93/misc_nexus_data/nexus_classes/definitions/NXfluo.nxdl.xml\n",
      "/dls/science/users/spc93/misc_nexus_data/nexus_classes/definitions/NXindirecttof.nxdl.xml\n",
      "/dls/science/users/spc93/misc_nexus_data/nexus_classes/definitions/NXiqproc.nxdl.xml\n",
      "/dls/science/users/spc93/misc_nexus_data/nexus_classes/definitions/NXlauetof.nxdl.xml\n",
      "/dls/science/users/spc93/misc_nexus_data/nexus_classes/definitions/NXmonopd.nxdl.xml\n",
      "/dls/science/users/spc93/misc_nexus_data/nexus_classes/definitions/NXmx.nxdl.xml\n",
      "/dls/science/users/spc93/misc_nexus_data/nexus_classes/definitions/NXrefscan.nxdl.xml\n",
      "/dls/science/users/spc93/misc_nexus_data/nexus_classes/definitions/NXreftof.nxdl.xml\n",
      "/dls/science/users/spc93/misc_nexus_data/nexus_classes/definitions/NXsas.nxdl.xml\n",
      "/dls/science/users/spc93/misc_nexus_data/nexus_classes/definitions/NXsastof.nxdl.xml\n",
      "/dls/science/users/spc93/misc_nexus_data/nexus_classes/definitions/NXscan.nxdl.xml\n",
      "/dls/science/users/spc93/misc_nexus_data/nexus_classes/definitions/NXspe.nxdl.xml\n",
      "/dls/science/users/spc93/misc_nexus_data/nexus_classes/definitions/NXsqom.nxdl.xml\n",
      "/dls/science/users/spc93/misc_nexus_data/nexus_classes/definitions/NXstxm.nxdl.xml\n",
      "/dls/science/users/spc93/misc_nexus_data/nexus_classes/definitions/NXtas.nxdl.xml\n",
      "/dls/science/users/spc93/misc_nexus_data/nexus_classes/definitions/NXtofnpd.nxdl.xml\n",
      "/dls/science/users/spc93/misc_nexus_data/nexus_classes/definitions/NXtofraw.nxdl.xml\n",
      "/dls/science/users/spc93/misc_nexus_data/nexus_classes/definitions/NXtofsingle.nxdl.xml\n",
      "/dls/science/users/spc93/misc_nexus_data/nexus_classes/definitions/NXtomo.nxdl.xml\n",
      "/dls/science/users/spc93/misc_nexus_data/nexus_classes/definitions/NXtomophase.nxdl.xml\n",
      "/dls/science/users/spc93/misc_nexus_data/nexus_classes/definitions/NXtomoproc.nxdl.xml\n",
      "/dls/science/users/spc93/misc_nexus_data/nexus_classes/definitions/NXxas.nxdl.xml\n",
      "/dls/science/users/spc93/misc_nexus_data/nexus_classes/definitions/NXxasproc.nxdl.xml\n",
      "/dls/science/users/spc93/misc_nexus_data/nexus_classes/definitions/NXxbase.nxdl.xml\n",
      "/dls/science/users/spc93/misc_nexus_data/nexus_classes/definitions/NXxeuler.nxdl.xml\n",
      "/dls/science/users/spc93/misc_nexus_data/nexus_classes/definitions/NXxkappa.nxdl.xml\n",
      "/dls/science/users/spc93/misc_nexus_data/nexus_classes/definitions/NXxlaue.nxdl.xml\n",
      "/dls/science/users/spc93/misc_nexus_data/nexus_classes/definitions/NXxlaueplate.nxdl.xml\n",
      "/dls/science/users/spc93/misc_nexus_data/nexus_classes/definitions/NXxnb.nxdl.xml\n",
      "/dls/science/users/spc93/misc_nexus_data/nexus_classes/definitions/NXxrot.nxdl.xml\n"
     ]
    }
   ],
   "source": [
    "folder_pattern_list = ['/dls/science/users/spc93/misc_nexus_data/nexus_classes/baseclasses/NX*.xml',\n",
    "          '/dls/science/users/spc93/misc_nexus_data/nexus_classes/definitions/NX*.xml']\n",
    "#outfile = '/dls/science/users/spc93/misc_nexus_data/misc/names_with_duplicates.xls'\n",
    "#remove_duplicate_long_names = False\n",
    "\n",
    "outfile = '/dls/science/users/spc93/misc_nexus_data/misc/names_no_duplicates.xls'\n",
    "remove_duplicate_long_names = True\n",
    "\n",
    "def get_file_list_from_folder_list(folder_pattern_list):\n",
    "    file_list = []\n",
    "    for folder in folder_pattern_list:\n",
    "        ff = os.popen('ls ' + folder)\n",
    "        file_list += ff.read().splitlines()\n",
    "    return(file_list)\n",
    "\n",
    "        \n",
    "file_list = get_file_list_from_folder_list(folders_pattern_list)\n",
    "\n",
    "\n",
    "\n",
    "parent_name_list, parent_type_list, field_name_list, class_name_list, long_name_list, doc_list, xml_list = [], [], [], [], [], [], []\n",
    "for file in file_list:\n",
    "    print(file)\n",
    "\n",
    "    dom1 = xml.dom.minidom.parse(file)\n",
    "\n",
    "    for field in dom1.getElementsByTagName('field'):\n",
    "        name = field.getAttribute('name')\n",
    "        parent = field.parentNode\n",
    "        parent_name = parent.getAttribute('name')\n",
    "        parent_type = parent.getAttribute('type')\n",
    "        if not parent_type == 'NXentry': # skip fields in top level of definition as they are not defined by nexus classes\n",
    "            if parent_type[0:2] == 'NX':\n",
    "                class_name = parent_type\n",
    "            elif parent_name[0:2] == 'NX':\n",
    "                class_name = parent_name\n",
    "            else:\n",
    "                print(\"=== Can't find a class name!\")\n",
    "                break\n",
    "                \n",
    "            long_name = '%s:%s' % (class_name, name)\n",
    "            if not remove_duplicate_long_names or not long_name in long_name_list:\n",
    "                xml_list += [file.split('/')[-1]]\n",
    "                long_name_list += [long_name]\n",
    "                field_name_list += [name]\n",
    "                parent_name_list += [parent_name]\n",
    "                parent_type_list += [parent_type]\n",
    "                class_name_list += [class_name]\n",
    "\n",
    "\n",
    "            doc_elem = field.getElementsByTagName('doc')\n",
    "            try:\n",
    "                doc = doc_elem[0].firstChild.nodeValue\n",
    "            except:\n",
    "                doc = ''\n",
    "            doc_list += [doc.replace('\\n','')]\n",
    "        \n",
    "df = pd.DataFrame(list(zip(long_name_list, xml_list, parent_name_list, parent_type_list, field_name_list, class_name_list, doc_list)),\n",
    "            columns = ['long_name', 'XML file', 'parent_name', 'parent_type', 'field_name', 'class_name', 'doc'])  \n",
    "\n",
    "df.to_excel(outfile)"
   ]
  },
  {
   "cell_type": "code",
   "execution_count": 220,
   "metadata": {},
   "outputs": [
    {
     "data": {
      "text/plain": [
       "[]"
      ]
     },
     "execution_count": 220,
     "metadata": {},
     "output_type": "execute_result"
    }
   ],
   "source": [
    "file_list"
   ]
  },
  {
   "cell_type": "code",
   "execution_count": 201,
   "metadata": {},
   "outputs": [
    {
     "name": "stdout",
     "output_type": "stream",
     "text": [
      "ls /dls/science/users/spc93/misc_nexus_data/nexus_classes/baseclasses/NX*.xml\n",
      "ls /dls/science/users/spc93/misc_nexus_data/nexus_classes/definitions/NX*.xml\n",
      "['/dls/science/users/spc93/misc_nexus_data/nexus_classes/baseclasses/NXaperture.nxdl.xml', '/dls/science/users/spc93/misc_nexus_data/nexus_classes/baseclasses/NXattenuator.nxdl.xml', '/dls/science/users/spc93/misc_nexus_data/nexus_classes/baseclasses/NXbeam.nxdl.xml', '/dls/science/users/spc93/misc_nexus_data/nexus_classes/baseclasses/NXbeam_stop.nxdl.xml', '/dls/science/users/spc93/misc_nexus_data/nexus_classes/baseclasses/NXbending_magnet.nxdl.xml', '/dls/science/users/spc93/misc_nexus_data/nexus_classes/baseclasses/NXcapillary.nxdl.xml', '/dls/science/users/spc93/misc_nexus_data/nexus_classes/baseclasses/NXcite.nxdl.xml', '/dls/science/users/spc93/misc_nexus_data/nexus_classes/baseclasses/NXcollection.nxdl.xml', '/dls/science/users/spc93/misc_nexus_data/nexus_classes/baseclasses/NXcollimator.nxdl.xml', '/dls/science/users/spc93/misc_nexus_data/nexus_classes/baseclasses/NXcrystal.nxdl.xml', '/dls/science/users/spc93/misc_nexus_data/nexus_classes/baseclasses/NXcylindrical_geometry.nxdl.xml', '/dls/science/users/spc93/misc_nexus_data/nexus_classes/baseclasses/NXdata.nxdl.xml', '/dls/science/users/spc93/misc_nexus_data/nexus_classes/baseclasses/NXdetector.nxdl.xml', '/dls/science/users/spc93/misc_nexus_data/nexus_classes/baseclasses/NXdetector_group.nxdl.xml', '/dls/science/users/spc93/misc_nexus_data/nexus_classes/baseclasses/NXdetector_module.nxdl.xml', '/dls/science/users/spc93/misc_nexus_data/nexus_classes/baseclasses/NXdisk_chopper.nxdl.xml', '/dls/science/users/spc93/misc_nexus_data/nexus_classes/baseclasses/NXentry.nxdl.xml', '/dls/science/users/spc93/misc_nexus_data/nexus_classes/baseclasses/NXenvironment.nxdl.xml', '/dls/science/users/spc93/misc_nexus_data/nexus_classes/baseclasses/NXevent_data.nxdl.xml', '/dls/science/users/spc93/misc_nexus_data/nexus_classes/baseclasses/NXfermi_chopper.nxdl.xml', '/dls/science/users/spc93/misc_nexus_data/nexus_classes/baseclasses/NXfilter.nxdl.xml', '/dls/science/users/spc93/misc_nexus_data/nexus_classes/baseclasses/NXflipper.nxdl.xml', '/dls/science/users/spc93/misc_nexus_data/nexus_classes/baseclasses/NXfresnel_zone_plate.nxdl.xml', '/dls/science/users/spc93/misc_nexus_data/nexus_classes/baseclasses/NXgeometry.nxdl.xml', '/dls/science/users/spc93/misc_nexus_data/nexus_classes/baseclasses/NXgrating.nxdl.xml', '/dls/science/users/spc93/misc_nexus_data/nexus_classes/baseclasses/NXguide.nxdl.xml', '/dls/science/users/spc93/misc_nexus_data/nexus_classes/baseclasses/NXinsertion_device.nxdl.xml', '/dls/science/users/spc93/misc_nexus_data/nexus_classes/baseclasses/NXinstrument.nxdl.xml', '/dls/science/users/spc93/misc_nexus_data/nexus_classes/baseclasses/NXlog.nxdl.xml', '/dls/science/users/spc93/misc_nexus_data/nexus_classes/baseclasses/NXmirror.nxdl.xml', '/dls/science/users/spc93/misc_nexus_data/nexus_classes/baseclasses/NXmoderator.nxdl.xml', '/dls/science/users/spc93/misc_nexus_data/nexus_classes/baseclasses/NXmonitor.nxdl.xml', '/dls/science/users/spc93/misc_nexus_data/nexus_classes/baseclasses/NXmonochromator.nxdl.xml', '/dls/science/users/spc93/misc_nexus_data/nexus_classes/baseclasses/NXnote.nxdl.xml', '/dls/science/users/spc93/misc_nexus_data/nexus_classes/baseclasses/NXobject.nxdl.xml', '/dls/science/users/spc93/misc_nexus_data/nexus_classes/baseclasses/NXoff_geometry.nxdl.xml', '/dls/science/users/spc93/misc_nexus_data/nexus_classes/baseclasses/NXorientation.nxdl.xml', '/dls/science/users/spc93/misc_nexus_data/nexus_classes/baseclasses/NXparameters.nxdl.xml', '/dls/science/users/spc93/misc_nexus_data/nexus_classes/baseclasses/NXpdb.nxdl.xml', '/dls/science/users/spc93/misc_nexus_data/nexus_classes/baseclasses/NXpinhole.nxdl.xml', '/dls/science/users/spc93/misc_nexus_data/nexus_classes/baseclasses/NXpolarizer.nxdl.xml', '/dls/science/users/spc93/misc_nexus_data/nexus_classes/baseclasses/NXpositioner.nxdl.xml', '/dls/science/users/spc93/misc_nexus_data/nexus_classes/baseclasses/NXprocess.nxdl.xml', '/dls/science/users/spc93/misc_nexus_data/nexus_classes/baseclasses/NXreflections.nxdl.xml', '/dls/science/users/spc93/misc_nexus_data/nexus_classes/baseclasses/NXroot.nxdl.xml', '/dls/science/users/spc93/misc_nexus_data/nexus_classes/baseclasses/NXsample.nxdl.xml', '/dls/science/users/spc93/misc_nexus_data/nexus_classes/baseclasses/NXsample_component.nxdl.xml', '/dls/science/users/spc93/misc_nexus_data/nexus_classes/baseclasses/NXsensor.nxdl.xml', '/dls/science/users/spc93/misc_nexus_data/nexus_classes/baseclasses/NXshape.nxdl.xml', '/dls/science/users/spc93/misc_nexus_data/nexus_classes/baseclasses/NXslit.nxdl.xml', '/dls/science/users/spc93/misc_nexus_data/nexus_classes/baseclasses/NXsource.nxdl.xml', '/dls/science/users/spc93/misc_nexus_data/nexus_classes/baseclasses/NXsubentry.nxdl.xml', '/dls/science/users/spc93/misc_nexus_data/nexus_classes/baseclasses/NXtransformations.nxdl.xml', '/dls/science/users/spc93/misc_nexus_data/nexus_classes/baseclasses/NXtranslation.nxdl.xml', '/dls/science/users/spc93/misc_nexus_data/nexus_classes/baseclasses/NXuser.nxdl.xml', '/dls/science/users/spc93/misc_nexus_data/nexus_classes/baseclasses/NXvelocity_selector.nxdl.xml', '/dls/science/users/spc93/misc_nexus_data/nexus_classes/baseclasses/NXxraylens.nxdl.xml', '/dls/science/users/spc93/misc_nexus_data/nexus_classes/definitions/NXarchive.nxdl.xml', '/dls/science/users/spc93/misc_nexus_data/nexus_classes/definitions/NXarpes.nxdl.xml', '/dls/science/users/spc93/misc_nexus_data/nexus_classes/definitions/NXcanSAS.nxdl.xml', '/dls/science/users/spc93/misc_nexus_data/nexus_classes/definitions/NXdirecttof.nxdl.xml', '/dls/science/users/spc93/misc_nexus_data/nexus_classes/definitions/NXfluo.nxdl.xml', '/dls/science/users/spc93/misc_nexus_data/nexus_classes/definitions/NXindirecttof.nxdl.xml', '/dls/science/users/spc93/misc_nexus_data/nexus_classes/definitions/NXiqproc.nxdl.xml', '/dls/science/users/spc93/misc_nexus_data/nexus_classes/definitions/NXlauetof.nxdl.xml', '/dls/science/users/spc93/misc_nexus_data/nexus_classes/definitions/NXmonopd.nxdl.xml', '/dls/science/users/spc93/misc_nexus_data/nexus_classes/definitions/NXmx.nxdl.xml', '/dls/science/users/spc93/misc_nexus_data/nexus_classes/definitions/NXrefscan.nxdl.xml', '/dls/science/users/spc93/misc_nexus_data/nexus_classes/definitions/NXreftof.nxdl.xml', '/dls/science/users/spc93/misc_nexus_data/nexus_classes/definitions/NXsas.nxdl.xml', '/dls/science/users/spc93/misc_nexus_data/nexus_classes/definitions/NXsastof.nxdl.xml', '/dls/science/users/spc93/misc_nexus_data/nexus_classes/definitions/NXscan.nxdl.xml', '/dls/science/users/spc93/misc_nexus_data/nexus_classes/definitions/NXspe.nxdl.xml', '/dls/science/users/spc93/misc_nexus_data/nexus_classes/definitions/NXsqom.nxdl.xml', '/dls/science/users/spc93/misc_nexus_data/nexus_classes/definitions/NXstxm.nxdl.xml', '/dls/science/users/spc93/misc_nexus_data/nexus_classes/definitions/NXtas.nxdl.xml', '/dls/science/users/spc93/misc_nexus_data/nexus_classes/definitions/NXtofnpd.nxdl.xml', '/dls/science/users/spc93/misc_nexus_data/nexus_classes/definitions/NXtofraw.nxdl.xml', '/dls/science/users/spc93/misc_nexus_data/nexus_classes/definitions/NXtofsingle.nxdl.xml', '/dls/science/users/spc93/misc_nexus_data/nexus_classes/definitions/NXtomo.nxdl.xml', '/dls/science/users/spc93/misc_nexus_data/nexus_classes/definitions/NXtomophase.nxdl.xml', '/dls/science/users/spc93/misc_nexus_data/nexus_classes/definitions/NXtomoproc.nxdl.xml', '/dls/science/users/spc93/misc_nexus_data/nexus_classes/definitions/NXxas.nxdl.xml', '/dls/science/users/spc93/misc_nexus_data/nexus_classes/definitions/NXxasproc.nxdl.xml', '/dls/science/users/spc93/misc_nexus_data/nexus_classes/definitions/NXxbase.nxdl.xml', '/dls/science/users/spc93/misc_nexus_data/nexus_classes/definitions/NXxeuler.nxdl.xml', '/dls/science/users/spc93/misc_nexus_data/nexus_classes/definitions/NXxkappa.nxdl.xml', '/dls/science/users/spc93/misc_nexus_data/nexus_classes/definitions/NXxlaue.nxdl.xml', '/dls/science/users/spc93/misc_nexus_data/nexus_classes/definitions/NXxlaueplate.nxdl.xml', '/dls/science/users/spc93/misc_nexus_data/nexus_classes/definitions/NXxnb.nxdl.xml', '/dls/science/users/spc93/misc_nexus_data/nexus_classes/definitions/NXxrot.nxdl.xml']\n"
     ]
    }
   ],
   "source": [
    "folder_pattern_list = ['/dls/science/users/spc93/misc_nexus_data/nexus_classes/baseclasses/NX*.xml',\n",
    "          '/dls/science/users/spc93/misc_nexus_data/nexus_classes/definitions/NX*.xml']\n",
    "\n",
    "def get_file_list_from_folder_list(folder_pattern_list):\n",
    "    file_list = []\n",
    "    for folder in folder_pattern_list:\n",
    "        ff = os.popen('ls ' + folder)\n",
    "        print('ls ' + folder)\n",
    "        file_list += ff.read().splitlines()\n",
    "    return(file_list)\n",
    "\n",
    "        \n",
    "file_list = get_file_list_from_folder_list(folders_pattern_list)\n",
    "\n",
    "\n"
   ]
  },
  {
   "cell_type": "code",
   "execution_count": 204,
   "metadata": {},
   "outputs": [
    {
     "data": {
      "text/plain": [
       "91"
      ]
     },
     "execution_count": 204,
     "metadata": {},
     "output_type": "execute_result"
    }
   ],
   "source": [
    "len(file_list)\n"
   ]
  },
  {
   "cell_type": "code",
   "execution_count": 217,
   "metadata": {},
   "outputs": [
    {
     "data": {
      "text/plain": [
       "'NXxrot.nxdl.xml'"
      ]
     },
     "execution_count": 217,
     "metadata": {},
     "output_type": "execute_result"
    }
   ],
   "source": [
    "file.split('/')[-1]"
   ]
  },
  {
   "cell_type": "code",
   "execution_count": null,
   "metadata": {},
   "outputs": [],
   "source": []
  }
 ],
 "metadata": {
  "kernelspec": {
   "display_name": "Python 3.8 [Conda DLS]",
   "language": "python",
   "name": "conda-env-Conda_DLS-python3.8"
  },
  "language_info": {
   "codemirror_mode": {
    "name": "ipython",
    "version": 3
   },
   "file_extension": ".py",
   "mimetype": "text/x-python",
   "name": "python",
   "nbconvert_exporter": "python",
   "pygments_lexer": "ipython3",
   "version": "3.8.0"
  }
 },
 "nbformat": 4,
 "nbformat_minor": 2
}
